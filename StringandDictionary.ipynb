{
 "cells": [
  {
   "cell_type": "markdown",
   "metadata": {},
   "source": [
    "# 字符串(string)与字典(dictionary)\n",
    "## 1.字符串常用操作\n",
    "### 1.1 len(str)\n",
    "### 1.2 str.upper( )/str.lower( )\n",
    "### 1.3 str.title( )\n",
    "### 1.4 str.join(sequence)\n",
    "### 1.5 str.format()\n",
    "### 1.6 str.center(）\n",
    "### 1.7 str.find( )与str.rfind( )\n",
    "### 1.8 str.replace()\n",
    "## 2.字典常用操作\n",
    "### 2.1 创建字典\n",
    "### 2.2 遍历字典\n",
    "### 2.3 表驱动编程\n",
    "### 2.4 模拟结构体\n",
    "### 2.5 dict.setdefault()\n",
    "### 2.6 文本处理"
   ]
  },
  {
   "cell_type": "markdown",
   "metadata": {},
   "source": [
    "### 1.1 len(str）求str长度"
   ]
  },
  {
   "cell_type": "code",
   "execution_count": 1,
   "metadata": {},
   "outputs": [
    {
     "data": {
      "text/plain": [
       "11"
      ]
     },
     "execution_count": 1,
     "metadata": {},
     "output_type": "execute_result"
    }
   ],
   "source": [
    "str1 = \"hello,world\"\n",
    "len(str1)"
   ]
  },
  {
   "cell_type": "markdown",
   "metadata": {},
   "source": [
    "### 1.2 str.upper( ) / str.lower( ) 大小写"
   ]
  },
  {
   "cell_type": "code",
   "execution_count": 2,
   "metadata": {},
   "outputs": [
    {
     "name": "stdout",
     "output_type": "stream",
     "text": [
      "HELLO,WORLD\n"
     ]
    }
   ],
   "source": [
    "print(str1.upper())"
   ]
  },
  {
   "cell_type": "code",
   "execution_count": 3,
   "metadata": {},
   "outputs": [
    {
     "name": "stdout",
     "output_type": "stream",
     "text": [
      "hello,world\n"
     ]
    }
   ],
   "source": [
    "print('HELLO,WORLD'.lower())"
   ]
  },
  {
   "cell_type": "code",
   "execution_count": 4,
   "metadata": {},
   "outputs": [
    {
     "name": "stdout",
     "output_type": "stream",
     "text": [
      "Do you like python ?yes\n",
      "Great.\n"
     ]
    }
   ],
   "source": [
    "# str.lower()的一个小应用,不区分回答的大小写\n",
    "answer = input('Do you like python ?')\n",
    "if answer.lower() == 'yes':\n",
    "    print('Great.')\n",
    "else:\n",
    "    print('Are you sure ?')"
   ]
  },
  {
   "cell_type": "markdown",
   "metadata": {},
   "source": [
    "### 1.3 str.title( )每个单词首字母大写"
   ]
  },
  {
   "cell_type": "code",
   "execution_count": 5,
   "metadata": {},
   "outputs": [
    {
     "name": "stdout",
     "output_type": "stream",
     "text": [
      "Hello,World\n"
     ]
    }
   ],
   "source": [
    "print('hello,world'.title())"
   ]
  },
  {
   "cell_type": "markdown",
   "metadata": {},
   "source": [
    "### 1.4 str.join(sequence) 把序列中的每个元素取出用str连接"
   ]
  },
  {
   "cell_type": "code",
   "execution_count": 6,
   "metadata": {},
   "outputs": [
    {
     "name": "stdout",
     "output_type": "stream",
     "text": [
      "1 2 3\n"
     ]
    }
   ],
   "source": [
    "print(' '.join('123'))"
   ]
  },
  {
   "cell_type": "code",
   "execution_count": 7,
   "metadata": {},
   "outputs": [
    {
     "name": "stdout",
     "output_type": "stream",
     "text": [
      "1 - 2 - 3\n"
     ]
    }
   ],
   "source": [
    "print(' - '.join('123'))"
   ]
  },
  {
   "cell_type": "markdown",
   "metadata": {},
   "source": [
    "### 1.5 str.format()格式化输出"
   ]
  },
  {
   "cell_type": "code",
   "execution_count": 8,
   "metadata": {},
   "outputs": [
    {
     "name": "stdout",
     "output_type": "stream",
     "text": [
      "9 = 3 * 3\n"
     ]
    }
   ],
   "source": [
    "x = 3\n",
    "print('{1} = {0} * {0}'.format(x,x*x))"
   ]
  },
  {
   "cell_type": "code",
   "execution_count": 9,
   "metadata": {},
   "outputs": [
    {
     "name": "stdout",
     "output_type": "stream",
     "text": [
      "3.14\n"
     ]
    }
   ],
   "source": [
    "print('{:.2f}'.format(3.1415926)) #指定数字格式，保留小数点后两位"
   ]
  },
  {
   "cell_type": "code",
   "execution_count": 10,
   "metadata": {},
   "outputs": [
    {
     "name": "stdout",
     "output_type": "stream",
     "text": [
      "my name is Haha,my age is 18\n"
     ]
    }
   ],
   "source": [
    "print('my name is {name},my age is {age}'.format(name = 'Haha',age = 18))"
   ]
  },
  {
   "cell_type": "code",
   "execution_count": 11,
   "metadata": {},
   "outputs": [
    {
     "name": "stdout",
     "output_type": "stream",
     "text": [
      "my name is Haha,my age is 18\n"
     ]
    }
   ],
   "source": [
    "name = 'Haha'\n",
    "age = 18\n",
    "print(f'my name is {name},my age is {age}') # format字符串"
   ]
  },
  {
   "cell_type": "markdown",
   "metadata": {},
   "source": [
    "### 1.6 str.center(width[, fillchar])默认用空格扩充字符串到指定长度"
   ]
  },
  {
   "cell_type": "code",
   "execution_count": 12,
   "metadata": {},
   "outputs": [
    {
     "data": {
      "text/plain": [
       "'   hello   '"
      ]
     },
     "execution_count": 12,
     "metadata": {},
     "output_type": "execute_result"
    }
   ],
   "source": [
    "'hello'.center(11)"
   ]
  },
  {
   "cell_type": "code",
   "execution_count": 13,
   "metadata": {},
   "outputs": [
    {
     "data": {
      "text/plain": [
       "'***hello***'"
      ]
     },
     "execution_count": 13,
     "metadata": {},
     "output_type": "execute_result"
    }
   ],
   "source": [
    "'hello'.center(11,'*')"
   ]
  },
  {
   "cell_type": "code",
   "execution_count": 14,
   "metadata": {},
   "outputs": [
    {
     "name": "stdout",
     "output_type": "stream",
     "text": [
      "****************************************\n",
      "              hello world               \n",
      "****************************************\n"
     ]
    }
   ],
   "source": [
    "# 花哨的输出\n",
    "print('*'*40)\n",
    "print('hello world'.center(40))\n",
    "print('*'*40)"
   ]
  },
  {
   "cell_type": "code",
   "execution_count": 15,
   "metadata": {},
   "outputs": [
    {
     "name": "stdout",
     "output_type": "stream",
     "text": [
      "****************************************\n",
      "*             hello world              *\n",
      "****************************************\n"
     ]
    }
   ],
   "source": [
    "# 不够满意想要封口封起来\n",
    "print('*'*40)\n",
    "print('hello world'.center(38).center(40,'*'))\n",
    "print('*'*40)"
   ]
  },
  {
   "cell_type": "markdown",
   "metadata": {},
   "source": [
    "### 1.7 str.find(seq)与str.rfind(seq）返回序列所在第一个位置，rfind表示倒着找，若没有找到返回-1"
   ]
  },
  {
   "cell_type": "code",
   "execution_count": 16,
   "metadata": {},
   "outputs": [
    {
     "name": "stdout",
     "output_type": "stream",
     "text": [
      "ipynb\n"
     ]
    }
   ],
   "source": [
    "# r'xxxx' :字符串前加r使得里面的内容失去转义\n",
    "# 取路径中文件类型，即.后面字母\n",
    "file_path = r'D:\\I LOVE PYTHON\\OOP\\The first class.ipynb'\n",
    "print(file_path[file_path.find('.') + 1:])"
   ]
  },
  {
   "cell_type": "code",
   "execution_count": 17,
   "metadata": {},
   "outputs": [],
   "source": [
    "file_path.rfind?"
   ]
  },
  {
   "cell_type": "code",
   "execution_count": 18,
   "metadata": {},
   "outputs": [
    {
     "name": "stdout",
     "output_type": "stream",
     "text": [
      "The first class\n"
     ]
    }
   ],
   "source": [
    "# 取路径中文件名字，即最后一个\\后的字母到.前面的内容\n",
    "print(file_path[file_path.rfind('\\\\')+1:file_path.find('.')])"
   ]
  },
  {
   "cell_type": "markdown",
   "metadata": {},
   "source": [
    "### 1.8 str.replace(old,new) 用new代替字符串中的old"
   ]
  },
  {
   "cell_type": "code",
   "execution_count": 19,
   "metadata": {},
   "outputs": [
    {
     "name": "stdout",
     "output_type": "stream",
     "text": [
      "Hello, Fangfang\n"
     ]
    }
   ],
   "source": [
    "print('Hello, #name#'.replace('#name#','Fangfang'))"
   ]
  },
  {
   "cell_type": "markdown",
   "metadata": {},
   "source": [
    "### 2.1 创建字典"
   ]
  },
  {
   "cell_type": "code",
   "execution_count": 20,
   "metadata": {},
   "outputs": [
    {
     "name": "stdout",
     "output_type": "stream",
     "text": [
      "{'Amy': 100, 'John': 90, 'Mike': 88}\n"
     ]
    }
   ],
   "source": [
    "scores = dict(Amy = 100, John = 90,Mike = 88)\n",
    "print(scores)"
   ]
  },
  {
   "cell_type": "code",
   "execution_count": 21,
   "metadata": {},
   "outputs": [
    {
     "name": "stdout",
     "output_type": "stream",
     "text": [
      "{'Amy': 100, 'John': 80, 'Mike': 70}\n"
     ]
    }
   ],
   "source": [
    "scores = {'Amy':100,'John':80,'Mike':70}\n",
    "print(scores)"
   ]
  },
  {
   "cell_type": "code",
   "execution_count": 22,
   "metadata": {},
   "outputs": [
    {
     "name": "stdout",
     "output_type": "stream",
     "text": [
      "{'Amy': 90, 'John': 100, 'Sarah': 70}\n"
     ]
    }
   ],
   "source": [
    "scores = dict()\n",
    "scores['Amy'] = 90\n",
    "scores['John'] = 100\n",
    "scores['Sarah'] = 70\n",
    "print(scores)"
   ]
  },
  {
   "cell_type": "code",
   "execution_count": 23,
   "metadata": {},
   "outputs": [
    {
     "name": "stdout",
     "output_type": "stream",
     "text": [
      "{'Amy': None, 'John': None, 'Sarah': None}\n"
     ]
    }
   ],
   "source": [
    "names = ['Amy','John','Sarah']\n",
    "scores = {}.fromkeys(names)\n",
    "print(scores)"
   ]
  },
  {
   "cell_type": "code",
   "execution_count": 24,
   "metadata": {},
   "outputs": [
    {
     "name": "stdout",
     "output_type": "stream",
     "text": [
      "{'Amy': 100, 'John': 100, 'Sarah': 100}\n"
     ]
    }
   ],
   "source": [
    "# 默认都为100分\n",
    "scores = {}.fromkeys(names,100)\n",
    "print(scores)"
   ]
  },
  {
   "cell_type": "markdown",
   "metadata": {},
   "source": [
    "### 2.2 遍历字典"
   ]
  },
  {
   "cell_type": "code",
   "execution_count": 25,
   "metadata": {},
   "outputs": [
    {
     "name": "stdout",
     "output_type": "stream",
     "text": [
      "Amy 100\n",
      "John 90\n",
      "Mike 88\n"
     ]
    }
   ],
   "source": [
    "scores = dict(Amy = 100, John = 90,Mike = 88)\n",
    "for name in scores:\n",
    "    print(name,scores[name])"
   ]
  },
  {
   "cell_type": "code",
   "execution_count": 26,
   "metadata": {},
   "outputs": [
    {
     "name": "stdout",
     "output_type": "stream",
     "text": [
      "Please input a name: fangfang\n",
      "Not found.\n",
      "Please input a name: Amy\n",
      "Amy 100\n",
      "Please input a name: quit\n"
     ]
    }
   ],
   "source": [
    "while True:\n",
    "    name = input('Please input a name: ')\n",
    "    if name.lower() == 'quit':\n",
    "        break\n",
    "    if name in scores:\n",
    "        print(name,scores[name])\n",
    "    else:\n",
    "        print('Not found.')"
   ]
  },
  {
   "cell_type": "markdown",
   "metadata": {},
   "source": [
    "### 2.3 表驱动编程"
   ]
  },
  {
   "cell_type": "code",
   "execution_count": 27,
   "metadata": {},
   "outputs": [
    {
     "name": "stdout",
     "output_type": "stream",
     "text": [
      "a 2\n",
      "e 3\n",
      "i 5\n",
      "o 1\n",
      "u 0\n"
     ]
    }
   ],
   "source": [
    "# 计算a e i o u 在下列字符串中分别出现了多少次\n",
    "str1 = 'hello , this is a test. I design it last night.'\n",
    "count = dict.fromkeys('aeiou',0)\n",
    "for i in count:\n",
    "    count[i] = str1.count(i)\n",
    "    print(i,count[i])"
   ]
  },
  {
   "cell_type": "markdown",
   "metadata": {},
   "source": [
    "### 2.4 模拟结构体"
   ]
  },
  {
   "cell_type": "code",
   "execution_count": 28,
   "metadata": {},
   "outputs": [
    {
     "name": "stdout",
     "output_type": "stream",
     "text": [
      "San Zhao , San Qian , San Sun , San Li , San Zhou , San Wu , San Zheng , San Wang , Si Zhao , Si Qian , Si Sun , Si Li , Si Zhou , Si Wu , Si Zheng , Si Wang , Wu Zhao , Wu Qian , Wu Sun , Wu Li , Wu Zhou , Wu Wu , Wu Zheng , Wu Wang , Liu Zhao , Liu Qian , Liu Sun , Liu Li , Liu Zhou , Liu Wu , Liu Zheng , Liu Wang , Jia Zhao , Jia Qian , Jia Sun , Jia Li , Jia Zhou , Jia Wu , Jia Zheng , Jia Wang , Yi Zhao , Yi Qian , Yi Sun , Yi Li , Yi Zhou , Yi Wu , Yi Zheng , Yi Wang , Bing Zhao , Bing Qian , Bing Sun , Bing Li , Bing Zhou , Bing Wu , Bing Zheng , Bing Wang , Ding Zhao , Ding Qian , Ding Sun , Ding Li , Ding Zhou , Ding Wu , Ding Zheng , Ding Wang , "
     ]
    }
   ],
   "source": [
    "# 第一步 创建大量的名字\n",
    "first_names =['San','Si','Wu','Liu','Jia','Yi','Bing','Ding']\n",
    "last_names = ['Zhao','Qian','Sun','Li','Zhou','Wu','Zheng','Wang']\n",
    "names = list()\n",
    "for first_name in first_names:\n",
    "    for last_name in last_names:\n",
    "        names.append(first_name + ' ' + last_name)\n",
    "for name in names:\n",
    "    print(name, end = ' , ')"
   ]
  },
  {
   "cell_type": "code",
   "execution_count": 29,
   "metadata": {},
   "outputs": [
    {
     "data": {
      "text/plain": [
       "'Ding Zhao'"
      ]
     },
     "execution_count": 29,
     "metadata": {},
     "output_type": "execute_result"
    }
   ],
   "source": [
    "# 随机选择一个名字\n",
    "import random\n",
    "random.choice(names)"
   ]
  },
  {
   "cell_type": "code",
   "execution_count": 30,
   "metadata": {},
   "outputs": [
    {
     "name": "stdout",
     "output_type": "stream",
     "text": [
      "{'Bing Li': {'Math': 47, 'Physics': 100, 'Python': 69},\n",
      " 'Bing Qian': {'Math': 100, 'Physics': 65, 'Python': 85},\n",
      " 'Bing Sun': {'Math': 75, 'Physics': 97, 'Python': 82},\n",
      " 'Bing Wang': {'Math': 62, 'Physics': 45, 'Python': 63},\n",
      " 'Bing Wu': {'Math': 100, 'Physics': 89, 'Python': 57},\n",
      " 'Bing Zhao': {'Math': 46, 'Physics': 75, 'Python': 68},\n",
      " 'Bing Zheng': {'Math': 81, 'Physics': 62, 'Python': 45},\n",
      " 'Bing Zhou': {'Math': 56, 'Physics': 95, 'Python': 100},\n",
      " 'Ding Li': {'Math': 93, 'Physics': 100, 'Python': 86},\n",
      " 'Ding Qian': {'Math': 74, 'Physics': 41, 'Python': 75},\n",
      " 'Ding Sun': {'Math': 78, 'Physics': 65, 'Python': 99},\n",
      " 'Ding Wang': {'Math': 79, 'Physics': 62, 'Python': 86},\n",
      " 'Ding Wu': {'Math': 67, 'Physics': 81, 'Python': 82},\n",
      " 'Ding Zhao': {'Math': 67, 'Physics': 58, 'Python': 30},\n",
      " 'Ding Zheng': {'Math': 85, 'Physics': 71, 'Python': 56},\n",
      " 'Ding Zhou': {'Math': 69, 'Physics': 57, 'Python': 96},\n",
      " 'Jia Li': {'Math': 60, 'Physics': 68, 'Python': 100},\n",
      " 'Jia Qian': {'Math': 87, 'Physics': 54, 'Python': 66},\n",
      " 'Jia Sun': {'Math': 64, 'Physics': 83, 'Python': 92},\n",
      " 'Jia Wang': {'Math': 63, 'Physics': 89, 'Python': 66},\n",
      " 'Jia Wu': {'Math': 51, 'Physics': 34, 'Python': 30},\n",
      " 'Jia Zhao': {'Math': 68, 'Physics': 93, 'Python': 72},\n",
      " 'Jia Zheng': {'Math': 82, 'Physics': 67, 'Python': 62},\n",
      " 'Jia Zhou': {'Math': 74, 'Physics': 71, 'Python': 89},\n",
      " 'Liu Li': {'Math': 48, 'Physics': 76, 'Python': 89},\n",
      " 'Liu Qian': {'Math': 96, 'Physics': 56, 'Python': 100},\n",
      " 'Liu Sun': {'Math': 51, 'Physics': 85, 'Python': 44},\n",
      " 'Liu Wang': {'Math': 51, 'Physics': 88, 'Python': 42},\n",
      " 'Liu Wu': {'Math': 70, 'Physics': 60, 'Python': 100},\n",
      " 'Liu Zhao': {'Math': 77, 'Physics': 54, 'Python': 55},\n",
      " 'Liu Zheng': {'Math': 90, 'Physics': 57, 'Python': 65},\n",
      " 'Liu Zhou': {'Math': 80, 'Physics': 60, 'Python': 100},\n",
      " 'San Li': {'Math': 68, 'Physics': 92, 'Python': 91},\n",
      " 'San Qian': {'Math': 89, 'Physics': 74, 'Python': 86},\n",
      " 'San Sun': {'Math': 78, 'Physics': 96, 'Python': 70},\n",
      " 'San Wang': {'Math': 78, 'Physics': 48, 'Python': 100},\n",
      " 'San Wu': {'Math': 69, 'Physics': 40, 'Python': 47},\n",
      " 'San Zhao': {'Math': 45, 'Physics': 96, 'Python': 79},\n",
      " 'San Zheng': {'Math': 80, 'Physics': 72, 'Python': 77},\n",
      " 'San Zhou': {'Math': 65, 'Physics': 71, 'Python': 52},\n",
      " 'Si Li': {'Math': 93, 'Physics': 94, 'Python': 59},\n",
      " 'Si Qian': {'Math': 94, 'Physics': 89, 'Python': 81},\n",
      " 'Si Sun': {'Math': 77, 'Physics': 80, 'Python': 73},\n",
      " 'Si Wang': {'Math': 78, 'Physics': 89, 'Python': 77},\n",
      " 'Si Wu': {'Math': 49, 'Physics': 95, 'Python': 55},\n",
      " 'Si Zhao': {'Math': 55, 'Physics': 44, 'Python': 87},\n",
      " 'Si Zheng': {'Math': 100, 'Physics': 94, 'Python': 55},\n",
      " 'Si Zhou': {'Math': 29, 'Physics': 96, 'Python': 64},\n",
      " 'Wu Li': {'Math': 72, 'Physics': 66, 'Python': 71},\n",
      " 'Wu Qian': {'Math': 61, 'Physics': 56, 'Python': 95},\n",
      " 'Wu Sun': {'Math': 62, 'Physics': 60, 'Python': 53},\n",
      " 'Wu Wang': {'Math': 76, 'Physics': 55, 'Python': 38},\n",
      " 'Wu Wu': {'Math': 81, 'Physics': 64, 'Python': 79},\n",
      " 'Wu Zhao': {'Math': 75, 'Physics': 92, 'Python': 98},\n",
      " 'Wu Zheng': {'Math': 93, 'Physics': 81, 'Python': 80},\n",
      " 'Wu Zhou': {'Math': 56, 'Physics': 70, 'Python': 42},\n",
      " 'Yi Li': {'Math': 69, 'Physics': 70, 'Python': 89},\n",
      " 'Yi Qian': {'Math': 71, 'Physics': 74, 'Python': 63},\n",
      " 'Yi Sun': {'Math': 100, 'Physics': 95, 'Python': 91},\n",
      " 'Yi Wang': {'Math': 48, 'Physics': 63, 'Python': 72},\n",
      " 'Yi Wu': {'Math': 100, 'Physics': 86, 'Python': 80},\n",
      " 'Yi Zhao': {'Math': 98, 'Physics': 74, 'Python': 82},\n",
      " 'Yi Zheng': {'Math': 75, 'Physics': 100, 'Python': 94},\n",
      " 'Yi Zhou': {'Math': 75, 'Physics': 78, 'Python': 100}}\n"
     ]
    }
   ],
   "source": [
    "# 第二步 创建一个score database,里面存放人名与对应的分数\n",
    "import math\n",
    "import random\n",
    "import pprint\n",
    "score_db = dict()\n",
    "score_template = {}.fromkeys(['Physics','Math','Python'],0)\n",
    "for name in names:\n",
    "    scores = score_template.copy()\n",
    "    for subject in scores:\n",
    "        # 分数用高斯分布随机产生\n",
    "        score = math.ceil(random.gauss(75,20))\n",
    "        if score > 100 : score = 100\n",
    "        elif score < 0 : score = 0\n",
    "        scores[subject] = score\n",
    "    score_db[name] = scores\n",
    "pprint.pprint(score_db) # 更好地显示"
   ]
  },
  {
   "cell_type": "code",
   "execution_count": 31,
   "metadata": {},
   "outputs": [
    {
     "data": {
      "text/plain": [
       "62"
      ]
     },
     "execution_count": 31,
     "metadata": {},
     "output_type": "execute_result"
    }
   ],
   "source": [
    "score_db['Ding Wang']['Physics']"
   ]
  },
  {
   "cell_type": "code",
   "execution_count": 32,
   "metadata": {},
   "outputs": [
    {
     "name": "stdout",
     "output_type": "stream",
     "text": [
      "Name                Math                Physics             Python              Total               \n",
      "San Zhao             96                  45                  79                  220                 \n",
      "San Qian             74                  89                  86                  249                 \n",
      "San Sun              96                  78                  70                  244                 \n",
      "San Li               92                  68                  91                  251                 \n",
      "San Zhou             71                  65                  52                  188                 \n",
      "San Wu               40                  69                  47                  156                 \n",
      "San Zheng            72                  80                  77                  229                 \n",
      "San Wang             48                  78                  100                 226                 \n",
      "Si Zhao              44                  55                  87                  186                 \n",
      "Si Qian              89                  94                  81                  264                 \n",
      "Si Sun               80                  77                  73                  230                 \n",
      "Si Li                94                  93                  59                  246                 \n",
      "Si Zhou              96                  29                  64                  189                 \n",
      "Si Wu                95                  49                  55                  199                 \n",
      "Si Zheng             94                  100                 55                  249                 \n",
      "Si Wang              89                  78                  77                  244                 \n",
      "Wu Zhao              92                  75                  98                  265                 \n",
      "Wu Qian              56                  61                  95                  212                 \n",
      "Wu Sun               60                  62                  53                  175                 \n",
      "Wu Li                66                  72                  71                  209                 \n",
      "Wu Zhou              70                  56                  42                  168                 \n",
      "Wu Wu                64                  81                  79                  224                 \n",
      "Wu Zheng             81                  93                  80                  254                 \n",
      "Wu Wang              55                  76                  38                  169                 \n",
      "Liu Zhao             54                  77                  55                  186                 \n",
      "Liu Qian             56                  96                  100                 252                 \n",
      "Liu Sun              85                  51                  44                  180                 \n",
      "Liu Li               76                  48                  89                  213                 \n",
      "Liu Zhou             60                  80                  100                 240                 \n",
      "Liu Wu               60                  70                  100                 230                 \n",
      "Liu Zheng            57                  90                  65                  212                 \n",
      "Liu Wang             88                  51                  42                  181                 \n",
      "Jia Zhao             93                  68                  72                  233                 \n",
      "Jia Qian             54                  87                  66                  207                 \n",
      "Jia Sun              83                  64                  92                  239                 \n",
      "Jia Li               68                  60                  100                 228                 \n",
      "Jia Zhou             71                  74                  89                  234                 \n",
      "Jia Wu               34                  51                  30                  115                 \n",
      "Jia Zheng            67                  82                  62                  211                 \n",
      "Jia Wang             89                  63                  66                  218                 \n",
      "Yi Zhao              74                  98                  82                  254                 \n",
      "Yi Qian              74                  71                  63                  208                 \n",
      "Yi Sun               95                  100                 91                  286                 \n",
      "Yi Li                70                  69                  89                  228                 \n",
      "Yi Zhou              78                  75                  100                 253                 \n",
      "Yi Wu                86                  100                 80                  266                 \n",
      "Yi Zheng             100                 75                  94                  269                 \n",
      "Yi Wang              63                  48                  72                  183                 \n",
      "Bing Zhao            75                  46                  68                  189                 \n",
      "Bing Qian            65                  100                 85                  250                 \n",
      "Bing Sun             97                  75                  82                  254                 \n",
      "Bing Li              100                 47                  69                  216                 \n",
      "Bing Zhou            95                  56                  100                 251                 \n",
      "Bing Wu              89                  100                 57                  246                 \n",
      "Bing Zheng           62                  81                  45                  188                 \n",
      "Bing Wang            45                  62                  63                  170                 \n",
      "Ding Zhao            58                  67                  30                  155                 \n",
      "Ding Qian            41                  74                  75                  190                 \n",
      "Ding Sun             65                  78                  99                  242                 \n",
      "Ding Li              100                 93                  86                  279                 \n",
      "Ding Zhou            57                  69                  96                  222                 \n",
      "Ding Wu              81                  67                  82                  230                 \n",
      "Ding Zheng           71                  85                  56                  212                 \n",
      "Ding Wang            62                  79                  86                  227                 \n"
     ]
    }
   ],
   "source": [
    "# 第三步 打印姓名与各科目分数\n",
    "print('{:<20}{:<20}{:<20}{:<20}{:<20}'.format('Name','Math','Physics','Python','Total'))\n",
    "for name in score_db:\n",
    "    sum1 = 0\n",
    "    print('{:<20} '.format(name),end ='')\n",
    "    for subject in score_db[name]:\n",
    "        sum1 += score_db[name][subject]\n",
    "        print('{:<19} '.format(score_db[name][subject]),end ='')\n",
    "    print('{:<20}'.format(sum1))"
   ]
  },
  {
   "cell_type": "code",
   "execution_count": 33,
   "metadata": {},
   "outputs": [],
   "source": [
    "# 第四步 希望能够按顺序排列"
   ]
  },
  {
   "cell_type": "code",
   "execution_count": 34,
   "metadata": {},
   "outputs": [
    {
     "name": "stdout",
     "output_type": "stream",
     "text": [
      "Name                Math                Physics             Python              Total               \n",
      "Yi Sun              95                  100                 91                  286                 \n",
      "Ding Li             100                 93                  86                  279                 \n",
      "Yi Zheng            100                 75                  94                  269                 \n",
      "Yi Wu               86                  100                 80                  266                 \n",
      "Wu Zhao             92                  75                  98                  265                 \n",
      "Si Qian             89                  94                  81                  264                 \n",
      "Wu Zheng            81                  93                  80                  254                 \n",
      "Yi Zhao             74                  98                  82                  254                 \n",
      "Bing Sun            97                  75                  82                  254                 \n",
      "Yi Zhou             78                  75                  100                 253                 \n",
      "Liu Qian            56                  96                  100                 252                 \n",
      "San Li              92                  68                  91                  251                 \n",
      "Bing Zhou           95                  56                  100                 251                 \n",
      "Bing Qian           65                  100                 85                  250                 \n",
      "San Qian            74                  89                  86                  249                 \n",
      "Si Zheng            94                  100                 55                  249                 \n",
      "Si Li               94                  93                  59                  246                 \n",
      "Bing Wu             89                  100                 57                  246                 \n",
      "San Sun             96                  78                  70                  244                 \n",
      "Si Wang             89                  78                  77                  244                 \n",
      "Ding Sun            65                  78                  99                  242                 \n",
      "Liu Zhou            60                  80                  100                 240                 \n",
      "Jia Sun             83                  64                  92                  239                 \n",
      "Jia Zhou            71                  74                  89                  234                 \n",
      "Jia Zhao            93                  68                  72                  233                 \n",
      "Si Sun              80                  77                  73                  230                 \n",
      "Liu Wu              60                  70                  100                 230                 \n",
      "Ding Wu             81                  67                  82                  230                 \n",
      "San Zheng           72                  80                  77                  229                 \n",
      "Jia Li              68                  60                  100                 228                 \n",
      "Yi Li               70                  69                  89                  228                 \n",
      "Ding Wang           62                  79                  86                  227                 \n",
      "San Wang            48                  78                  100                 226                 \n",
      "Wu Wu               64                  81                  79                  224                 \n",
      "Ding Zhou           57                  69                  96                  222                 \n",
      "San Zhao            96                  45                  79                  220                 \n",
      "Jia Wang            89                  63                  66                  218                 \n",
      "Bing Li             100                 47                  69                  216                 \n",
      "Liu Li              76                  48                  89                  213                 \n",
      "Wu Qian             56                  61                  95                  212                 \n",
      "Liu Zheng           57                  90                  65                  212                 \n",
      "Ding Zheng          71                  85                  56                  212                 \n",
      "Jia Zheng           67                  82                  62                  211                 \n",
      "Wu Li               66                  72                  71                  209                 \n",
      "Yi Qian             74                  71                  63                  208                 \n",
      "Jia Qian            54                  87                  66                  207                 \n",
      "Si Wu               95                  49                  55                  199                 \n",
      "Ding Qian           41                  74                  75                  190                 \n",
      "Si Zhou             96                  29                  64                  189                 \n",
      "Bing Zhao           75                  46                  68                  189                 \n",
      "San Zhou            71                  65                  52                  188                 \n",
      "Bing Zheng          62                  81                  45                  188                 \n",
      "Si Zhao             44                  55                  87                  186                 \n",
      "Liu Zhao            54                  77                  55                  186                 \n",
      "Yi Wang             63                  48                  72                  183                 \n",
      "Liu Wang            88                  51                  42                  181                 \n",
      "Liu Sun             85                  51                  44                  180                 \n",
      "Wu Sun              60                  62                  53                  175                 \n",
      "Bing Wang           45                  62                  63                  170                 \n",
      "Wu Wang             55                  76                  38                  169                 \n",
      "Wu Zhou             70                  56                  42                  168                 \n",
      "San Wu              40                  69                  47                  156                 \n",
      "Ding Zhao           58                  67                  30                  155                 \n",
      "Jia Wu              34                  51                  30                  115                 \n"
     ]
    }
   ],
   "source": [
    "\n",
    "items = score_db.items() # items是一个包含多个元组的列表，key与value存在元组中\n",
    "def total(item): #此函数用于排序\n",
    "    sum1 = 0\n",
    "    for i in item[1]:\n",
    "        sum1 += item[1][i]\n",
    "    return sum1\n",
    "sorted_scores = sorted(items,key=total,reverse = True)\n",
    "print('{:<20}{:<20}{:<20}{:<20}{:<20}'.format('Name','Math','Physics','Python','Total'))\n",
    "for item in sorted_scores:\n",
    "    print('{:<20}'.format(item[0]),end ='')\n",
    "    for subject in item[1]:\n",
    "        print('{:<20}'.format(item[1][subject]),end ='')\n",
    "    print('{:<20}'.format(total(item)))"
   ]
  },
  {
   "cell_type": "code",
   "execution_count": 35,
   "metadata": {},
   "outputs": [],
   "source": [
    "def total(item):\n",
    "    sum1 = 0\n",
    "    for i in item[1]:\n",
    "        sum1 += item[1][i]\n",
    "    return sum1"
   ]
  },
  {
   "cell_type": "markdown",
   "metadata": {},
   "source": [
    "### 2.5 dict.setdefault()"
   ]
  },
  {
   "cell_type": "code",
   "execution_count": 36,
   "metadata": {},
   "outputs": [
    {
     "name": "stdout",
     "output_type": "stream",
     "text": [
      "{'h': 1, 'e': 1, 'l': 3, 'o': 2, ' ': 1, 'w': 1, 'r': 1, 'd': 1}\n"
     ]
    }
   ],
   "source": [
    "# 统计一个字符串中的字符出现次数\n",
    "count = dict()\n",
    "for ch in 'hello world':\n",
    "    count.setdefault(ch,0)\n",
    "    count[ch] += 1\n",
    "print(count)"
   ]
  },
  {
   "cell_type": "markdown",
   "metadata": {},
   "source": [
    "### 2.6 文本处理，统计词频"
   ]
  },
  {
   "cell_type": "code",
   "execution_count": 37,
   "metadata": {},
   "outputs": [
    {
     "name": "stdout",
     "output_type": "stream",
     "text": [
      "frequency of occurence \t numbers    \t words     \n",
      "\t6          \t 1          \t a \n",
      "\n",
      "\t5          \t 4          \t dimensional time series of \n",
      "\n",
      "\t4          \t 1          \t three \n",
      "\n",
      "\t3          \t 4          \t images data as in \n",
      "\n",
      "\t2          \t 7          \t single image for file formats be the \n",
      "\n",
      "\t1          \t 37         \t whereas structuralmri generally comprise fmri are represented example we might collect an every segconds total minutes resulting some allow representation four datasets which case this entire could saved with fourth dimension other require that stored separate files \n",
      "\n"
     ]
    }
   ],
   "source": [
    "import re\n",
    "text ='''\n",
    "Whereas structuralMRI images generally comprise a\n",
    "single three-dimensional image, fMRI data are represented as a time series of three dimensional\n",
    "images. For example, we might collect an image every 2 segconds for\n",
    "a total of 6 minutes, resulting in a time series of 180 three-dimensional images.\n",
    "Some file formats allow representation of four-dimensional datasets, in which case\n",
    "this entire time series could be saved in a single data file, with time as the fourth\n",
    "dimension. Other formats require that the time series be stored as a series of separate\n",
    "three-dimensional data files.\n",
    "'''\n",
    "text1 = re.sub('[’!\"#$%&\\'()*+,-./:;<=>?@[\\\\]^_`{|}~\\d\\n\\t]+',' ',text)\n",
    "words = text1.lower().split(' ')\n",
    "try:\n",
    "    while True: words.remove('') #去除空字符串\n",
    "except:\n",
    "    pass\n",
    "# 统计词频\n",
    "count = dict()\n",
    "for word in words:\n",
    "    count.setdefault(word,0)\n",
    "    count[word] += 1\n",
    "# 按出现次数统计词频\n",
    "words_by_count = dict()\n",
    "for word in count:\n",
    "    words_by_count.setdefault(count[word],[]) \n",
    "    words_by_count[count[word]].append(word)\n",
    "\n",
    "# 根据出现次数高低降序输出\n",
    "print('{:<20} \\t {:<10} \\t {:<10}'.format('frequency of occurence','numbers','words'))\n",
    "for i in sorted(words_by_count,reverse = True):\n",
    "    print('\\t{:<10}'.format(i),end = ' ')\n",
    "    print('\\t {:<10} \\t'.format(len(words_by_count[i])),end =' ')\n",
    "    for word in words_by_count[i]:\n",
    "        print(word, end = ' ')\n",
    "    print('\\n')"
   ]
  },
  {
   "cell_type": "code",
   "execution_count": 38,
   "metadata": {},
   "outputs": [
    {
     "data": {
      "text/plain": [
       "[<matplotlib.lines.Line2D at 0x24e7fe9d7b8>]"
      ]
     },
     "execution_count": 38,
     "metadata": {},
     "output_type": "execute_result"
    }
   ],
   "source": [
    "import matplotlib.pyplot as plt\n",
    "occurences = sorted(words_by_count)\n",
    "new_count = list()\n",
    "for occur in occurences:\n",
    "    new_count.append(len(words_by_count[occur]))\n",
    "plt.plot(occurences,new_count,color = 'red')\n"
   ]
  }
 ],
 "metadata": {
  "kernelspec": {
   "display_name": "Python 3",
   "language": "python",
   "name": "python3"
  },
  "language_info": {
   "codemirror_mode": {
    "name": "ipython",
    "version": 3
   },
   "file_extension": ".py",
   "mimetype": "text/x-python",
   "name": "python",
   "nbconvert_exporter": "python",
   "pygments_lexer": "ipython3",
   "version": "3.6.4"
  }
 },
 "nbformat": 4,
 "nbformat_minor": 2
}
