{
 "cells": [
  {
   "cell_type": "markdown",
   "metadata": {},
   "source": [
    "## Python的异常机制主要依赖try、except、else、finally和raise五个关键字\n",
    "## try关键字后缩进的代码块简称try块，它里面放置的是可能引发异常的代码块\n",
    "## except关键字后对应的是异常类型和一个代码块，用于表明该except块处理这种类型的代码块\n",
    "## 在多个except块之后可以放一个else块，表明程序不出现异常时还要执行else块\n",
    "## 最后可以跟一个finally块，finally块用于回收在try块里面打开的物理资源\n",
    "## raise用于引发一个实际的异常，raise可以单独作为语句使用，引发一个具体的异常对象"
   ]
  },
  {
   "cell_type": "markdown",
   "metadata": {},
   "source": [
    "## (1) 使用 try.....except捕获异常\n",
    "### 如果在执行try块里面的代码出现异常时，系统自动生成一个异常对象，该异常对象被提交给python解释器，这个过程被称为【引发异常】\n",
    "### 如果找到合适的except块，则把该异常对象交给该except块处理，这个过程被称为【异常捕获】"
   ]
  },
  {
   "cell_type": "code",
   "execution_count": 1,
   "metadata": {},
   "outputs": [
    {
     "name": "stdout",
     "output_type": "stream",
     "text": [
      "Please input a number: 7\n",
      "Please input a number: 0\n",
      "The second number cannot be zero!\n"
     ]
    }
   ],
   "source": [
    "try:\n",
    "    x = int(input('Please input a number: '))\n",
    "    y = int(input('Please input a number: '))\n",
    "    print('{}/ {} = {}'.format(x,y,x/y))\n",
    "except ZeroDivisionError:\n",
    "    print('The second number cannot be zero!')"
   ]
  },
  {
   "cell_type": "code",
   "execution_count": 5,
   "metadata": {},
   "outputs": [
    {
     "name": "stdout",
     "output_type": "stream",
     "text": [
      "Please input a number: a\n",
      "Invalid value.\n"
     ]
    }
   ],
   "source": [
    "try:\n",
    "    x = int(input('Please input a number: '))\n",
    "    y = int(input('Please input a number: '))\n",
    "    print('{}/ {} = {}'.format(x,y,x/y))\n",
    "except ZeroDivisionError:\n",
    "    print('The second number cannot be zero!')\n",
    "except ValueError:\n",
    "    print('Invalid value.')\n",
    "    "
   ]
  },
  {
   "cell_type": "code",
   "execution_count": 6,
   "metadata": {},
   "outputs": [
    {
     "name": "stdout",
     "output_type": "stream",
     "text": [
      "Please input a number: 10\n",
      "Please input a number: e\n",
      "The error is : invalid literal for int() with base 10: 'e'\n"
     ]
    }
   ],
   "source": [
    "try:\n",
    "    x = int(input('Please input a number: '))\n",
    "    y = int(input('Please input a number: '))\n",
    "    print('{}/ {} = {}'.format(x,y,x/y))\n",
    "except (ZeroDivisionError,ValueError) as e:\n",
    "    print('The error is : {}'.format(e))"
   ]
  },
  {
   "cell_type": "markdown",
   "metadata": {},
   "source": [
    "## (2) else块\n",
    "### 当程序中的try块没有异常时，程序就会执行else块"
   ]
  },
  {
   "cell_type": "code",
   "execution_count": 7,
   "metadata": {},
   "outputs": [
    {
     "name": "stdout",
     "output_type": "stream",
     "text": [
      "Please input a number: a\n",
      "The error is : invalid literal for int() with base 10: 'a'\n",
      "Please input a number: 1\n",
      "Please input a number: 0\n",
      "The error is : division by zero\n",
      "Please input a number: 7\n",
      "Please input a number: 4\n",
      "7/ 4 = 1.75\n"
     ]
    }
   ],
   "source": [
    "while True:\n",
    "    try:\n",
    "        x = int(input('Please input a number: '))\n",
    "        y = int(input('Please input a number: '))\n",
    "        print('{}/ {} = {}'.format(x,y,x/y))\n",
    "    except (ZeroDivisionError,ValueError) as e:\n",
    "        print('The error is : {}'.format(e))\n",
    "    else:\n",
    "        break"
   ]
  },
  {
   "cell_type": "markdown",
   "metadata": {},
   "source": [
    "## (3) finally回收资源\n",
    "### 为了保证一定能回收try块中打开的物理资源，异常处理机制提供了finally块，不管try块中的代码是否出现异常，也不管哪一个except块被执行，finally块总会被执行"
   ]
  },
  {
   "cell_type": "code",
   "execution_count": 2,
   "metadata": {},
   "outputs": [
    {
     "name": "stdout",
     "output_type": "stream",
     "text": [
      "No such file or directory\n",
      "执行finally块里的资源回收！\n"
     ]
    }
   ],
   "source": [
    "import os\n",
    "def test():\n",
    "    fis = None\n",
    "    try:\n",
    "        fis = open('a.txt')\n",
    "    except OSError as e:\n",
    "        print(e.strerror)\n",
    "        return\n",
    "    finally:\n",
    "        if fis is not None:\n",
    "            try:\n",
    "                fis.close()\n",
    "            except OSError as ioe:\n",
    "                print(ioe.strerror)\n",
    "        print('执行finally块里的资源回收！')\n",
    "\n",
    "test()\n"
   ]
  },
  {
   "cell_type": "code",
   "execution_count": 9,
   "metadata": {},
   "outputs": [
    {
     "data": {
      "text/plain": [
       "0.14285714285714285"
      ]
     },
     "execution_count": 9,
     "metadata": {},
     "output_type": "execute_result"
    }
   ],
   "source": [
    "x = None\n",
    "flag = False\n",
    "try:\n",
    "    x = 1/7\n",
    "except ZeroDivisionError as e:\n",
    "    flag = True\n",
    "    print('The error is {}.'.format(e))\n",
    "finally:\n",
    "    if flag:\n",
    "        print('cleaning up...')\n",
    "        del x\n",
    "x"
   ]
  },
  {
   "cell_type": "markdown",
   "metadata": {},
   "source": [
    "## (4) 使用raise明显地引发异常\n",
    "### 三种形式： \n",
    "### raise instance # Raise instance of class\n",
    "### raise class # Make and raise instance of class\n",
    "### raise  # Raise the most recent exception"
   ]
  },
  {
   "cell_type": "code",
   "execution_count": 10,
   "metadata": {},
   "outputs": [
    {
     "ename": "Exception",
     "evalue": "('Invalid level!', 0)",
     "output_type": "error",
     "traceback": [
      "\u001b[1;31m---------------------------------------------------------------------------\u001b[0m",
      "\u001b[1;31mException\u001b[0m                                 Traceback (most recent call last)",
      "\u001b[1;32m<ipython-input-10-9ad9fcd94498>\u001b[0m in \u001b[0;36m<module>\u001b[1;34m\u001b[0m\n\u001b[0;32m      2\u001b[0m     \u001b[1;32mif\u001b[0m \u001b[0mlevel\u001b[0m \u001b[1;33m<\u001b[0m \u001b[1;36m1\u001b[0m\u001b[1;33m:\u001b[0m\u001b[1;33m\u001b[0m\u001b[0m\n\u001b[0;32m      3\u001b[0m         \u001b[1;32mraise\u001b[0m \u001b[0mException\u001b[0m\u001b[1;33m(\u001b[0m\u001b[1;34m'Invalid level!'\u001b[0m\u001b[1;33m,\u001b[0m\u001b[0mlevel\u001b[0m\u001b[1;33m)\u001b[0m\u001b[1;33m\u001b[0m\u001b[0m\n\u001b[1;32m----> 4\u001b[1;33m \u001b[0mfunctionName\u001b[0m\u001b[1;33m(\u001b[0m\u001b[1;36m0\u001b[0m\u001b[1;33m)\u001b[0m\u001b[1;33m\u001b[0m\u001b[0m\n\u001b[0m",
      "\u001b[1;32m<ipython-input-10-9ad9fcd94498>\u001b[0m in \u001b[0;36mfunctionName\u001b[1;34m(level)\u001b[0m\n\u001b[0;32m      1\u001b[0m \u001b[1;32mdef\u001b[0m \u001b[0mfunctionName\u001b[0m\u001b[1;33m(\u001b[0m\u001b[0mlevel\u001b[0m\u001b[1;33m)\u001b[0m\u001b[1;33m:\u001b[0m\u001b[1;33m\u001b[0m\u001b[0m\n\u001b[0;32m      2\u001b[0m     \u001b[1;32mif\u001b[0m \u001b[0mlevel\u001b[0m \u001b[1;33m<\u001b[0m \u001b[1;36m1\u001b[0m\u001b[1;33m:\u001b[0m\u001b[1;33m\u001b[0m\u001b[0m\n\u001b[1;32m----> 3\u001b[1;33m         \u001b[1;32mraise\u001b[0m \u001b[0mException\u001b[0m\u001b[1;33m(\u001b[0m\u001b[1;34m'Invalid level!'\u001b[0m\u001b[1;33m,\u001b[0m\u001b[0mlevel\u001b[0m\u001b[1;33m)\u001b[0m\u001b[1;33m\u001b[0m\u001b[0m\n\u001b[0m\u001b[0;32m      4\u001b[0m \u001b[0mfunctionName\u001b[0m\u001b[1;33m(\u001b[0m\u001b[1;36m0\u001b[0m\u001b[1;33m)\u001b[0m\u001b[1;33m\u001b[0m\u001b[0m\n",
      "\u001b[1;31mException\u001b[0m: ('Invalid level!', 0)"
     ]
    }
   ],
   "source": [
    "def functionName(level):\n",
    "    if level < 1:\n",
    "        raise Exception('Invalid level!',level)\n",
    "functionName(0)"
   ]
  },
  {
   "cell_type": "code",
   "execution_count": null,
   "metadata": {},
   "outputs": [],
   "source": []
  }
 ],
 "metadata": {
  "kernelspec": {
   "display_name": "Python 3",
   "language": "python",
   "name": "python3"
  },
  "language_info": {
   "codemirror_mode": {
    "name": "ipython",
    "version": 3
   },
   "file_extension": ".py",
   "mimetype": "text/x-python",
   "name": "python",
   "nbconvert_exporter": "python",
   "pygments_lexer": "ipython3",
   "version": "3.6.4"
  }
 },
 "nbformat": 4,
 "nbformat_minor": 2
}
