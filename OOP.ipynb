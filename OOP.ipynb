{
 "cells": [
  {
   "cell_type": "markdown",
   "metadata": {},
   "source": [
    "<span id=\"0\"></span>\n",
    "# OOP LEARNING NOTE \n",
    "> Implementation by Python\n",
    "## Content\n",
    "---\n",
    "## Class and Object\n",
    "### [类和对象入门](#1)\n",
    "### [构造函数](#2)\n",
    "### [查看对象属于哪个类型](#3)\n",
    "### [成员变量](#4)\n",
    "### [静态方法](#5)\n",
    "### [魔法方法(magic methods)](#6)\n",
    "### [前置双下划线作用](#7)\n",
    "### [检验变量类型](#8)\n",
    "### [使用\\__dict__查看变量](#9)\n",
    "### [为类添加doc string](#10)\n",
    "### [多态性(Polymorphism)](#11)\n",
    "### [继承(Inheritence)](#12)\n",
    "### [多继承](#13)\n",
    "### [继承再探究](#14)\n",
    "### [接口(interface)](#15)\n",
    "### [隐藏和封装(encapsulation)](#16)\n",
    "---\n",
    "## Other\n",
    "### [使用property函数定义属性](#17)\n",
    "### [异常处理](#18)\n",
    "### [函数装饰器](#19)\n",
    "### [迭代器(Iterator)](#20)\n",
    "---\n",
    "### [To Top](#0)"
   ]
  },
  {
   "cell_type": "markdown",
   "metadata": {},
   "source": [
    "<span id=\"1\"></span>\n",
    "## 类和对象入门\n",
    "* 一个对象（object）是一个类(class)的实例(instance)\n",
    "* 一个类是一个对象的模板(template)\n",
    "### [回目录](#0)"
   ]
  },
  {
   "cell_type": "code",
   "execution_count": 1,
   "metadata": {},
   "outputs": [
    {
     "name": "stdout",
     "output_type": "stream",
     "text": [
      "Hello, I am Zhang San.\n"
     ]
    }
   ],
   "source": [
    "# 定义一个Person类并实例化一个对象zs\n",
    "class Person:\n",
    "    \n",
    "    def set_name(self,name): #这些函数称为method,self指的是具体的对象\n",
    "        self.name = name  # self.xx称为成员变量\n",
    "        \n",
    "    def get_name(self):\n",
    "        return self.name\n",
    "    \n",
    "    def greet(self):\n",
    "        print('Hello, I am {}.'.format(self.name))\n",
    "    \n",
    "zs = Person() # 创建这个类的实例zs\n",
    "zs.set_name('Zhang San')\n",
    "zs.greet()"
   ]
  },
  {
   "cell_type": "code",
   "execution_count": 2,
   "metadata": {},
   "outputs": [
    {
     "name": "stdout",
     "output_type": "stream",
     "text": [
      "Hello, I am Li Si.\n"
     ]
    }
   ],
   "source": [
    "# 也可以创建该类的另一个对象ls，实现代码的复用\n",
    "ls = Person()\n",
    "ls.set_name('Li Si')\n",
    "ls.greet()"
   ]
  },
  {
   "cell_type": "markdown",
   "metadata": {},
   "source": [
    "<span id=\"2\"></span>\n",
    "## 构造函数\n",
    "### 构造函数 Constructor 在对象建立时会被自动调用\n",
    "### def \\__init__()初始化一个对象\n",
    "### [回目录](#0)"
   ]
  },
  {
   "cell_type": "code",
   "execution_count": 3,
   "metadata": {},
   "outputs": [
    {
     "name": "stdout",
     "output_type": "stream",
     "text": [
      "Total number of person ： 1\n",
      "Hello, I am Zhang San.\n",
      "Not a valid name.\n"
     ]
    }
   ],
   "source": [
    "# 带静态变量的Person类\n",
    "class Person:\n",
    "    count = 0 # 计数器用于统计创建了几个对象\n",
    "    \n",
    "    def __init__(self,name = None): # 构造函数\n",
    "        self.__name = name\n",
    "        Person.count += 1 # 类的成员，count属于class\n",
    "        print('Total number of person ： {}'.format(Person.count))\n",
    "        \n",
    "    def set_name(self,name): \n",
    "        # assert(isinstance(name,str))\n",
    "        if isinstance(name,str):\n",
    "            self.__name = name \n",
    "        else:\n",
    "            print('Not a valid name.')\n",
    "\n",
    "    def get_name(self):\n",
    "        return self.__name\n",
    "    \n",
    "    def greet(self):\n",
    "        print('Hello, I am {}.'.format(self.__name)) \n",
    "    \n",
    "# 实例化对象时，会调用构造函数\n",
    "zs = Person('Zhang San')  \n",
    "zs.greet()\n",
    "\n",
    "# 设置一个类型错误的名字\n",
    "zs.set_name(12)"
   ]
  },
  {
   "cell_type": "code",
   "execution_count": 4,
   "metadata": {},
   "outputs": [
    {
     "name": "stdout",
     "output_type": "stream",
     "text": [
      "a b c\n",
      "a b c\n"
     ]
    }
   ],
   "source": [
    "# 多次继承下，构造函数的调用顺序\n",
    "class A:\n",
    "    def __init__(self):\n",
    "        self.a = 'a'\n",
    "\n",
    "class B(A):\n",
    "    def __init__(self):\n",
    "        super().__init__()\n",
    "        self.b = 'b'\n",
    "\n",
    "class C(B):\n",
    "    def __init__(self):\n",
    "        super().__init__()\n",
    "        self.c = 'c'\n",
    "    \n",
    "    def test(self):\n",
    "        print(self.a,self.b,self.c)\n",
    "c = C()\n",
    "c.test()\n",
    "\n",
    "c = C()\n",
    "c.test()"
   ]
  },
  {
   "cell_type": "code",
   "execution_count": 5,
   "metadata": {},
   "outputs": [
    {
     "name": "stdout",
     "output_type": "stream",
     "text": [
      "Squawki!\n",
      "Aaaah...\n"
     ]
    }
   ],
   "source": [
    "# 可以通过super调用父类的构造函数\n",
    "class Bird:\n",
    "    def __init__(self):\n",
    "        self.hungry = True\n",
    "    \n",
    "    def eat(self):\n",
    "        if self.hungry:\n",
    "            print('Aaaah...')\n",
    "            self.hungry = False\n",
    "        else:\n",
    "            print('No,thanks.')\n",
    "            \n",
    "class SongBird(Bird):\n",
    "    def __init__(self):\n",
    "        #Bird.__init__(self) \n",
    "        super().__init__() # 此方法是bind method\n",
    "        self.sound = 'Squawki!'\n",
    "    \n",
    "    def sing(self):\n",
    "        print(self.sound)\n",
    "        \n",
    "s = SongBird()\n",
    "s.sing()\n",
    "s.eat()"
   ]
  },
  {
   "cell_type": "markdown",
   "metadata": {},
   "source": [
    "<span id=\"3\"></span>\n",
    "## 查看对象属于哪个类型\n",
    "### 使用isinstance()来判断是否某一个类的实例化\n",
    "### 函数可以用来来判断一个对象是否是一个已知的类型，类似 type()。\n",
    "### [回目录](#0)"
   ]
  },
  {
   "cell_type": "code",
   "execution_count": 6,
   "metadata": {},
   "outputs": [
    {
     "name": "stdout",
     "output_type": "stream",
     "text": [
      "False\n",
      "<class 'int'>\n",
      "True\n",
      "<class 'str'>\n"
     ]
    }
   ],
   "source": [
    "# 分别利用isinstance()和type()来判断1和'1'的类型\n",
    "print(isinstance(1,str))\n",
    "print(type(1))\n",
    "print(isinstance('1',str))\n",
    "print(type('1'))"
   ]
  },
  {
   "cell_type": "markdown",
   "metadata": {},
   "source": [
    "<span id=\"4\"></span>\n",
    "## 成员变量\n",
    "### [回目录](#0)"
   ]
  },
  {
   "cell_type": "code",
   "execution_count": 7,
   "metadata": {},
   "outputs": [
    {
     "name": "stdout",
     "output_type": "stream",
     "text": [
      "广州\n",
      "广州\n",
      "510660\n",
      "佛山\n",
      "460110\n"
     ]
    }
   ],
   "source": [
    "# Address类包含两个静态变量和一个调用它们的方法\n",
    "class Address:\n",
    "    detail = '广州'\n",
    "    post_code = '510660'\n",
    "    \n",
    "    # 使用类名来访问静态变量\n",
    "    def info(self):\n",
    "        print(Address.detail)\n",
    "        print(Address.post_code)\n",
    "\n",
    "print(Address.detail)\n",
    "\n",
    "addr = Address()\n",
    "addr.info()\n",
    "\n",
    "Address.detail ='佛山'\n",
    "Address.post_code = '460110'\n",
    "addr.info()"
   ]
  },
  {
   "cell_type": "code",
   "execution_count": 8,
   "metadata": {},
   "outputs": [
    {
     "name": "stdout",
     "output_type": "stream",
     "text": [
      "鼠标\n",
      "2019-11-23\n",
      "info方法中:  鼠标\n",
      "info方法中:  2019-11-23\n"
     ]
    }
   ],
   "source": [
    "# Record类包含两个静态变量\n",
    "class Record:\n",
    "    item = '鼠标'\n",
    "    date ='2019-11-23'\n",
    "    \n",
    "    # 使用self指针来访问静态变量\n",
    "    def info(self):\n",
    "        print('info方法中: ',self.item)\n",
    "        print('info方法中: ',self.date)\n",
    "\n",
    "rc = Record()\n",
    "print(rc.item)\n",
    "print(rc.date)\n",
    "rc.info()"
   ]
  },
  {
   "cell_type": "markdown",
   "metadata": {},
   "source": [
    "<span id=\"5\"></span>\n",
    "## 静态方法\n",
    "### [回目录](#0)"
   ]
  },
  {
   "cell_type": "code",
   "execution_count": 9,
   "metadata": {},
   "outputs": [
    {
     "name": "stdout",
     "output_type": "stream",
     "text": [
      "This is a static method.\n",
      "This is a class method.\n"
     ]
    }
   ],
   "source": [
    "# 用staticmethod限定方法的类型\n",
    "class MyClass:\n",
    "    def static_method(): #静态方法，不能访问类也不能访问对象\n",
    "        print('This is a static method.')\n",
    "    static_method = staticmethod(static_method)  # 创建了一个staticmethod类，但是仍然可以调用\n",
    "\n",
    "    def class_method(self): # classmethod\n",
    "        print('This is a class method.')\n",
    "    class_method = classmethod(class_method)\n",
    "    \n",
    "MyClass.static_method()\n",
    "MyClass.class_method()"
   ]
  },
  {
   "cell_type": "code",
   "execution_count": 10,
   "metadata": {},
   "outputs": [
    {
     "name": "stdout",
     "output_type": "stream",
     "text": [
      "This is a static method.\n",
      "This is a class method.\n"
     ]
    }
   ],
   "source": [
    "# 用装饰器限定方法的类型\n",
    "class MyClass:\n",
    "    @staticmethod #修饰器\n",
    "    def static_method(): #静态方法，不能访问类也不能访问对象\n",
    "        print('This is a static method.')\n",
    "    #static_method = staticmethod(static_method)  # 创建了一个staticmethod类，但是仍然可以调用\n",
    "    \n",
    "    @classmethod\n",
    "    def class_method(self): # classmethod\n",
    "        print('This is a class method.')\n",
    "    #class_method = classmethod(class_method)\n",
    "\n",
    "MyClass.static_method()\n",
    "MyClass.class_method()"
   ]
  },
  {
   "cell_type": "markdown",
   "metadata": {},
   "source": [
    "<span id=\"6\"></span>\n",
    "## 魔法方法(magic methods)\n",
    "### 被双下划线前后置包裹的方法被称为魔法方法\n",
    "### 他们会在类或对象的某些事件触发后“执行”\n",
    "> \\__init__与\\__iter__也是魔法方法，具体使用方法详见各自说明\n",
    "### [回目录](#0)"
   ]
  },
  {
   "cell_type": "code",
   "execution_count": 11,
   "metadata": {},
   "outputs": [
    {
     "name": "stdout",
     "output_type": "stream",
     "text": [
      "5\n"
     ]
    }
   ],
   "source": [
    "# __len(self)__\n",
    "print(len('hello'))"
   ]
  },
  {
   "cell_type": "code",
   "execution_count": 12,
   "metadata": {},
   "outputs": [
    {
     "name": "stdout",
     "output_type": "stream",
     "text": [
      "1\n"
     ]
    }
   ],
   "source": [
    "# __getitem__(self,key)\n",
    "my_list = [1,2,3]\n",
    "print(my_list[0])"
   ]
  },
  {
   "cell_type": "code",
   "execution_count": 13,
   "metadata": {},
   "outputs": [],
   "source": [
    "# __setitem__(self,key)\n",
    "my_list[0] = 2"
   ]
  },
  {
   "cell_type": "code",
   "execution_count": 14,
   "metadata": {},
   "outputs": [],
   "source": [
    "# __delitem__(self,key)\n",
    "del my_list[0]"
   ]
  },
  {
   "cell_type": "code",
   "execution_count": 15,
   "metadata": {},
   "outputs": [
    {
     "name": "stdout",
     "output_type": "stream",
     "text": [
      "9\n",
      "20001\n"
     ]
    }
   ],
   "source": [
    "#__getitem__\n",
    "#__setitem__\n",
    "class ArithmeticSequence:\n",
    "    def __init__(self,start = 0,step = 1):\n",
    "        self.start = start\n",
    "        self.step = step\n",
    "        self.changed = {}\n",
    "    \n",
    "    def check_key(key):\n",
    "        if not isinstance(key,int):raise TypeError\n",
    "        if key < 0 :raise Index\n",
    "    def __getitem__(self,key):\n",
    "        if not isinstance(key,int):raise TypeError #判断key是否为int\n",
    "        if key < 0 :raise IndexError #\n",
    "        try:return self.changed[key]\n",
    "        except KeyError: #字典中找不到key\n",
    "            return self.start + key * self.step\n",
    "    \n",
    "    def __setitem__(self,key,value):\n",
    "        self.changed[key] = value\n",
    "\n",
    "s = ArithmeticSequence(1,2)\n",
    "print(s[4])\n",
    "print(s[10000])\n",
    "s[4] = 100"
   ]
  },
  {
   "cell_type": "code",
   "execution_count": 16,
   "metadata": {},
   "outputs": [
    {
     "name": "stdout",
     "output_type": "stream",
     "text": [
      "(3, 4)\n",
      "5\n",
      "(3, 5)\n",
      "{'width': 3, 'height': 5}\n"
     ]
    }
   ],
   "source": [
    "'''\n",
    "魔法方法，通过改写这些方法让python系统调用\n",
    "__setattr__：给属性赋值\n",
    "__getattr__:没有找到属性的情况下，才调用\n",
    "以下例子的使用基本被遗弃,现在用装饰器比较多\n",
    "'''\n",
    "class Rectangle:\n",
    "    def __init__(self):\n",
    "        self.width = 0\n",
    "        self.height = 0\n",
    "    \n",
    "    def __setattr__(self,name,value):\n",
    "        if name == 'size':\n",
    "            self.width,self.height = value\n",
    "        else:\n",
    "            self.__dict__[name] = value\n",
    "    \n",
    "    def __getattr__(self,name):\n",
    "        if name == 'size':\n",
    "            return self.width,self.height\n",
    "        else:\n",
    "            return self.__dict__[name]\n",
    "            #raise AttributeError()\n",
    "\n",
    "rect = Rectangle()\n",
    "rect.size = (3,4)\n",
    "\n",
    "print(rect.size)\n",
    "\n",
    "rect.height = 5\n",
    "print(rect.height)\n",
    "print(rect.size)\n",
    "\n",
    "print(rect.__dict__)"
   ]
  },
  {
   "cell_type": "markdown",
   "metadata": {},
   "source": [
    "<span id=\"7\"></span>\n",
    "## 前置双下划线作用\n",
    "* 1.可以使属性变量私有，不会被派生类去继承，仅能自己使用\n",
    "* 2.可以避免派生类和父类属性名称的冲突\n",
    "\n",
    "### 类内的方法加上了前置双下划线，那么这个类方法也不可以在类外使用\n",
    "### [回目录](#0)"
   ]
  },
  {
   "cell_type": "code",
   "execution_count": 17,
   "metadata": {},
   "outputs": [],
   "source": [
    "# Person类中的__greet_once()方法只能在类内使用\n",
    "class Person:\n",
    "    def set_name(self,name): \n",
    "        #assert(isinstance(name,str))\n",
    "        if isinstance(name,str):\n",
    "            self.__name = name \n",
    "        else:\n",
    "            print('Not a valid name.')\n",
    "\n",
    "    def __init__(self,name = None): # 构造函数\n",
    "        self.set_name(name)\n",
    "                       \n",
    "    def get_name(self):\n",
    "        return self.__name\n",
    "    \n",
    "    def __greet_once(self):\n",
    "        print('Hello, I am {}.'.format(self.__name))\n",
    "    \n",
    "    def greet(self):\n",
    "        self.__greet_once()\n",
    "        self.__greet_once()"
   ]
  },
  {
   "cell_type": "code",
   "execution_count": 18,
   "metadata": {},
   "outputs": [
    {
     "name": "stdout",
     "output_type": "stream",
     "text": [
      "Hello, I am Zhang San.\n",
      "Hello, I am Zhang San.\n"
     ]
    }
   ],
   "source": [
    "# 可以通过访问公有方法，访问到类内的私有方法\n",
    "zs = Person('Zhang San')\n",
    "zs.greet()"
   ]
  },
  {
   "cell_type": "code",
   "execution_count": 19,
   "metadata": {},
   "outputs": [
    {
     "ename": "AttributeError",
     "evalue": "'Person' object has no attribute '__great_once'",
     "output_type": "error",
     "traceback": [
      "\u001b[1;31m---------------------------------------------------------------------------\u001b[0m",
      "\u001b[1;31mAttributeError\u001b[0m                            Traceback (most recent call last)",
      "\u001b[1;32m<ipython-input-19-60ac9bc61eca>\u001b[0m in \u001b[0;36m<module>\u001b[1;34m\u001b[0m\n\u001b[0;32m      1\u001b[0m \u001b[1;31m# 类的私有方法只能被类内调用，类外调用就报错\u001b[0m\u001b[1;33m\u001b[0m\u001b[1;33m\u001b[0m\u001b[1;33m\u001b[0m\u001b[0m\n\u001b[1;32m----> 2\u001b[1;33m \u001b[0mzs\u001b[0m\u001b[1;33m.\u001b[0m\u001b[0m__great_once\u001b[0m\u001b[1;33m(\u001b[0m\u001b[1;33m)\u001b[0m\u001b[1;33m\u001b[0m\u001b[1;33m\u001b[0m\u001b[0m\n\u001b[0m",
      "\u001b[1;31mAttributeError\u001b[0m: 'Person' object has no attribute '__great_once'"
     ]
    }
   ],
   "source": [
    "# 类的私有方法只能被类内调用，类外调用就报错\n",
    "zs.__great_once()"
   ]
  },
  {
   "cell_type": "markdown",
   "metadata": {},
   "source": [
    "<span id=\"8\"></span>\n",
    "## 检验变量类型\n",
    "### 初始化时，通过调用自己定义的方法，对传入变量类型进行验证\n",
    "### 来避免不应该的错误\n",
    "### [回目录](#0)"
   ]
  },
  {
   "cell_type": "code",
   "execution_count": 20,
   "metadata": {},
   "outputs": [],
   "source": [
    "# 通过set_name()方法检验输入的变量类型\n",
    "class Person:\n",
    "    def set_name(self,name): \n",
    "        # assert(isinstance(name,str))\n",
    "        if isinstance(name,str):\n",
    "            self.__name = name\n",
    "            self.__isname=True\n",
    "        else:\n",
    "            print('Not a valid name.')\n",
    "\n",
    "    def __init__(self,name = None): # 构造函数\n",
    "        self.__isname=False\n",
    "        self.set_name(name)\n",
    "                    \n",
    "    def get_name(self):\n",
    "        return self.__name\n",
    "    \n",
    "    def __greet_once(self):\n",
    "        print('Hello, I am {}.'.format(self.__name))\n",
    "    \n",
    "    def greet(self):\n",
    "        if self.__isname:\n",
    "            self.__greet_once()\n",
    "            self.__greet_once()\n",
    "        else:\n",
    "            print(\"plz set a true name!\")"
   ]
  },
  {
   "cell_type": "code",
   "execution_count": 21,
   "metadata": {},
   "outputs": [
    {
     "name": "stdout",
     "output_type": "stream",
     "text": [
      "Hello, I am Li Si.\n",
      "Hello, I am Li Si.\n"
     ]
    }
   ],
   "source": [
    "# 传入为字符串时，给私有变量__name赋值，否则打印错误提示\n",
    "# 这样的提前检验参数类型的做法可以避免掉一些错误\n",
    "ls = Person('Li Si')\n",
    "ls.greet()"
   ]
  },
  {
   "cell_type": "code",
   "execution_count": 22,
   "metadata": {},
   "outputs": [
    {
     "name": "stdout",
     "output_type": "stream",
     "text": [
      "Not a valid name.\n",
      "plz set a true name!\n"
     ]
    }
   ],
   "source": [
    "# 传入的变量类型不正确时\n",
    "ls = Person(1)\n",
    "ls.greet()"
   ]
  },
  {
   "cell_type": "markdown",
   "metadata": {},
   "source": [
    "<span id=\"9\"></span>\n",
    "## 使用\\__dict__查看变量\n",
    "### 通过对象的__dict__查看对象的变量字典\n",
    "### __dict__存储self.xxx 信息\n",
    "### [回目录](#0)"
   ]
  },
  {
   "cell_type": "code",
   "execution_count": 23,
   "metadata": {},
   "outputs": [],
   "source": [
    "class Person:\n",
    "    def set_name(self,name): \n",
    "        #assert(isinstance(name,str))\n",
    "        if isinstance(name,str):\n",
    "            self.__name = name \n",
    "        else:\n",
    "            print('Not a valid name.')\n",
    "\n",
    "    def __init__(self,name = None): # 构造函数\n",
    "        self.set_name(name)\n",
    "                       \n",
    "    def get_name(self):\n",
    "        return self.__name\n",
    "    \n",
    "    def __greet_once(self):\n",
    "        print('Hello, I am {}.'.format(self.__name))\n",
    "    \n",
    "    def greet(self):\n",
    "        self.__greet_once()\n",
    "        self.__greet_once()"
   ]
  },
  {
   "cell_type": "code",
   "execution_count": 24,
   "metadata": {},
   "outputs": [
    {
     "ename": "AttributeError",
     "evalue": "'Person' object has no attribute '__name'",
     "output_type": "error",
     "traceback": [
      "\u001b[1;31m---------------------------------------------------------------------------\u001b[0m",
      "\u001b[1;31mAttributeError\u001b[0m                            Traceback (most recent call last)",
      "\u001b[1;32m<ipython-input-24-380d2df0d130>\u001b[0m in \u001b[0;36m<module>\u001b[1;34m\u001b[0m\n\u001b[0;32m      1\u001b[0m \u001b[1;31m# 不可以直接调用私有变量\u001b[0m\u001b[1;33m\u001b[0m\u001b[1;33m\u001b[0m\u001b[1;33m\u001b[0m\u001b[0m\n\u001b[0;32m      2\u001b[0m \u001b[0mzs\u001b[0m \u001b[1;33m=\u001b[0m \u001b[0mPerson\u001b[0m\u001b[1;33m(\u001b[0m\u001b[1;34m'Zhang San'\u001b[0m\u001b[1;33m)\u001b[0m\u001b[1;33m\u001b[0m\u001b[1;33m\u001b[0m\u001b[0m\n\u001b[1;32m----> 3\u001b[1;33m \u001b[0mprint\u001b[0m\u001b[1;33m(\u001b[0m\u001b[0mzs\u001b[0m\u001b[1;33m.\u001b[0m\u001b[0m__name\u001b[0m\u001b[1;33m)\u001b[0m\u001b[1;33m\u001b[0m\u001b[1;33m\u001b[0m\u001b[0m\n\u001b[0m",
      "\u001b[1;31mAttributeError\u001b[0m: 'Person' object has no attribute '__name'"
     ]
    }
   ],
   "source": [
    "# 不可以直接调用私有变量\n",
    "zs = Person('Zhang San')\n",
    "print(zs.__name)"
   ]
  },
  {
   "cell_type": "code",
   "execution_count": 25,
   "metadata": {},
   "outputs": [
    {
     "name": "stdout",
     "output_type": "stream",
     "text": [
      "{'_Person__name': 'Zhang San'}\n"
     ]
    }
   ],
   "source": [
    "# 查看zs的__dict__\n",
    "print(zs.__dict__)"
   ]
  },
  {
   "cell_type": "code",
   "execution_count": 26,
   "metadata": {},
   "outputs": [
    {
     "name": "stdout",
     "output_type": "stream",
     "text": [
      "Zhang San\n"
     ]
    }
   ],
   "source": [
    "# __dict__可见的变量，也可以直接使用.访问\n",
    "print(zs._Person__name)"
   ]
  },
  {
   "cell_type": "code",
   "execution_count": 27,
   "metadata": {},
   "outputs": [
    {
     "name": "stdout",
     "output_type": "stream",
     "text": [
      "Hello, I am 1.\n",
      "Hello, I am 1.\n"
     ]
    }
   ],
   "source": [
    "# 可以通过_Person__name直接给类内的私有变量赋值\n",
    "zs._Person__name = 1\n",
    "zs.greet()"
   ]
  },
  {
   "cell_type": "code",
   "execution_count": 28,
   "metadata": {},
   "outputs": [
    {
     "name": "stdout",
     "output_type": "stream",
     "text": [
      "Hello, I am 1.\n",
      "Hello, I am 1.\n"
     ]
    }
   ],
   "source": [
    "# 类外不可以直接访问私有方法，直接赋值会导致定义一个新的变量\n",
    "zs.__name = 3\n",
    "zs.greet()"
   ]
  },
  {
   "cell_type": "code",
   "execution_count": 29,
   "metadata": {},
   "outputs": [
    {
     "name": "stdout",
     "output_type": "stream",
     "text": [
      "{'_Person__name': 1, '__name': 3}\n"
     ]
    }
   ],
   "source": [
    "# python信息隐藏机制\n",
    "print(zs.__dict__)"
   ]
  },
  {
   "cell_type": "code",
   "execution_count": 30,
   "metadata": {},
   "outputs": [
    {
     "name": "stdout",
     "output_type": "stream",
     "text": [
      "Help on class Person in module __main__:\n",
      "\n",
      "class Person(builtins.object)\n",
      " |  Person(name=None)\n",
      " |  \n",
      " |  Methods defined here:\n",
      " |  \n",
      " |  __init__(self, name=None)\n",
      " |      Initialize self.  See help(type(self)) for accurate signature.\n",
      " |  \n",
      " |  get_name(self)\n",
      " |  \n",
      " |  greet(self)\n",
      " |  \n",
      " |  set_name(self, name)\n",
      " |  \n",
      " |  ----------------------------------------------------------------------\n",
      " |  Data descriptors defined here:\n",
      " |  \n",
      " |  __dict__\n",
      " |      dictionary for instance variables (if defined)\n",
      " |  \n",
      " |  __weakref__\n",
      " |      list of weak references to the object (if defined)\n",
      "\n"
     ]
    }
   ],
   "source": [
    "# 通过help查看类的一些使用信息\n",
    "help(Person)"
   ]
  },
  {
   "cell_type": "markdown",
   "metadata": {},
   "source": [
    "<span id=\"10\"></span>\n",
    "## 为类添加doc string\n",
    "### 即增加help()方法的内容\n",
    "### type hint机制用于提示类型\n",
    "### 类型提示只是类型提示而已,本质是注释,不会强制类型\n",
    "### 所以类型提示不能体现强类型声明\n",
    "### [回目录](#0)"
   ]
  },
  {
   "cell_type": "code",
   "execution_count": 31,
   "metadata": {},
   "outputs": [],
   "source": [
    "class Person:\n",
    "    '''\n",
    "    This class can be used to represent a person.\n",
    "    '''\n",
    "    def set_name(self,name): \n",
    "        '''\n",
    "        Set the name of person.\n",
    "        name must be str\n",
    "        '''\n",
    "        #assert(isinstance(name,str))\n",
    "        if isinstance(name,str):\n",
    "            self.__name = name \n",
    "        else:\n",
    "            print('Not a valid name.')\n",
    "\n",
    "    def __init__(self,name = None): # 构造函数\n",
    "        self.set_name(name)\n",
    "                \n",
    "            \n",
    "    def get_name(self):\n",
    "        ''' \n",
    "        Returns the name of the person. \n",
    "        '''\n",
    "        \n",
    "        return self.__name\n",
    "    \n",
    "    def __greet_once(self):\n",
    "        print('Hello, I am {}.'.format(self.__name))\n",
    "    \n",
    "    def greet(self):\n",
    "        self.__greet_once()\n",
    "        self.__greet_once()"
   ]
  },
  {
   "cell_type": "code",
   "execution_count": 32,
   "metadata": {},
   "outputs": [],
   "source": [
    "# 添加类型提示\n",
    "class Person:\n",
    "    '''\n",
    "    This class can be used to represent a person.\n",
    "    '''\n",
    "    \n",
    "    def set_name(self,name:str): \n",
    "        '''\n",
    "        Set the name of person.\n",
    "        name must be str\n",
    "        '''\n",
    "        \n",
    "        #assert(isinstance(name,str))\n",
    "        if isinstance(name,str):\n",
    "            self.__name = name \n",
    "        else:\n",
    "            print('Not a valid name.')\n",
    "\n",
    "    # 类型提示写法一\n",
    "    def __init__(self,name:str = None): # name:str type hint\n",
    "        self.set_name(name)\n",
    "                \n",
    "    # 类型提示写法二\n",
    "    def get_name(self)->str: # 提示返回类型是str\n",
    "        ''' Returns the name of the person. '''\n",
    "        return self.__name\n",
    "    \n",
    "    def __greet_once(self):\n",
    "        print('Hello, I am {}.'.format(self.__name))\n",
    "    \n",
    "    def greet(self):\n",
    "        self.__greet_once()\n",
    "        self.__greet_once()"
   ]
  },
  {
   "cell_type": "code",
   "execution_count": 33,
   "metadata": {},
   "outputs": [
    {
     "name": "stdout",
     "output_type": "stream",
     "text": [
      "Help on class Person in module __main__:\n",
      "\n",
      "class Person(builtins.object)\n",
      " |  Person(name: str = None)\n",
      " |  \n",
      " |  This class can be used to represent a person.\n",
      " |  \n",
      " |  Methods defined here:\n",
      " |  \n",
      " |  __init__(self, name: str = None)\n",
      " |      Initialize self.  See help(type(self)) for accurate signature.\n",
      " |  \n",
      " |  get_name(self) -> str\n",
      " |      Returns the name of the person.\n",
      " |  \n",
      " |  greet(self)\n",
      " |  \n",
      " |  set_name(self, name: str)\n",
      " |      Set the name of person.\n",
      " |      name must be str\n",
      " |  \n",
      " |  ----------------------------------------------------------------------\n",
      " |  Data descriptors defined here:\n",
      " |  \n",
      " |  __dict__\n",
      " |      dictionary for instance variables (if defined)\n",
      " |  \n",
      " |  __weakref__\n",
      " |      list of weak references to the object (if defined)\n",
      "\n"
     ]
    }
   ],
   "source": [
    "# 显示Person类的帮助文档\n",
    "help(Person)"
   ]
  },
  {
   "cell_type": "markdown",
   "metadata": {},
   "source": [
    "<span id=\"11\"></span>\n",
    "## 多态性(Polymorphism)\n",
    "### 同样的形式有多种结果\n",
    "> 即，多态实现了用一段代码给出不同的响应\n",
    "### 比如 + 可以表示两个数字相加也可以表示两个字母拼接\n",
    "### 用duck typing实现多态\n",
    "### [回目录](#0)"
   ]
  },
  {
   "cell_type": "code",
   "execution_count": 34,
   "metadata": {},
   "outputs": [
    {
     "name": "stdout",
     "output_type": "stream",
     "text": [
      "1\n",
      "2\n"
     ]
    }
   ],
   "source": [
    "# 两个不同的类实例化的对象都可以使用count来计数\n",
    "print('hello'.count('e'))\n",
    "print([1,2,3,'e','e'].count('e'))"
   ]
  },
  {
   "cell_type": "code",
   "execution_count": 35,
   "metadata": {},
   "outputs": [
    {
     "name": "stdout",
     "output_type": "stream",
     "text": [
      "1\n",
      "2\n"
     ]
    }
   ],
   "source": [
    "# 静态多态的另一种体现\n",
    "my_list =['hello',[1,2,3,'e','e']]\n",
    "for item in my_list:\n",
    "    print(item.count('e'))"
   ]
  },
  {
   "cell_type": "code",
   "execution_count": 36,
   "metadata": {},
   "outputs": [
    {
     "name": "stdout",
     "output_type": "stream",
     "text": [
      "0\n"
     ]
    }
   ],
   "source": [
    "# 因为my_list中只有'hello'字符串和列表，并无'e'，所以输出0\n",
    "print(my_list.count('e'))"
   ]
  },
  {
   "cell_type": "code",
   "execution_count": 37,
   "metadata": {},
   "outputs": [
    {
     "name": "stdout",
     "output_type": "stream",
     "text": [
      "meow....\n",
      "wang, wang...\n"
     ]
    }
   ],
   "source": [
    "# 通过分支结构来实现多态\n",
    "class Cat:\n",
    "    def meow(self):\n",
    "        print('meow....')\n",
    "class Dog:\n",
    "    def wang(self):\n",
    "        print('wang, wang...')\n",
    "\n",
    "pets = list()\n",
    "pets.append(Cat())\n",
    "pets.append(Dog())\n",
    "\n",
    "for item in pets:\n",
    "    if isinstance(item,Cat):\n",
    "        item.meow()\n",
    "    elif isinstance(item,Dog):\n",
    "        item.wang()\n",
    "    pass\n"
   ]
  },
  {
   "cell_type": "code",
   "execution_count": 38,
   "metadata": {},
   "outputs": [
    {
     "name": "stdout",
     "output_type": "stream",
     "text": [
      "meow....\n",
      "wang, wang...\n",
      "meow....\n"
     ]
    }
   ],
   "source": [
    "# 通过list实现多态\n",
    "class Cat:\n",
    "    def talk(self):\n",
    "        print('meow....')\n",
    "class Dog:\n",
    "    def talk(self):\n",
    "        print('wang, wang...')\n",
    "\n",
    "pets = [Cat(),Dog(),Cat()]\n",
    "\n",
    "for item in pets:\n",
    "    item.talk()\n"
   ]
  },
  {
   "cell_type": "code",
   "execution_count": 39,
   "metadata": {},
   "outputs": [
    {
     "name": "stdout",
     "output_type": "stream",
     "text": [
      "3\n",
      "ab\n"
     ]
    }
   ],
   "source": [
    "# Python不存在函数重载，因为Python是动态类型的，大多数情况下不太需要对形参类型进行改变\n",
    "def add(a,b):\n",
    "    return a+b\n",
    "\n",
    "a ,b = 1, 2\n",
    "print(add(1,2))\n",
    "\n",
    "x,y = 'a','b'\n",
    "print(add(x,y))"
   ]
  },
  {
   "cell_type": "code",
   "execution_count": 40,
   "metadata": {},
   "outputs": [
    {
     "name": "stdout",
     "output_type": "stream",
     "text": [
      "Garfield正在慢慢走过一片草坪\n",
      "Kityy正在慢慢走过一片草坪\n"
     ]
    }
   ],
   "source": [
    "# 通过函数覆盖实现多态\n",
    "class Cat:\n",
    "    def __init__(self,name):\n",
    "        self.name = name\n",
    "    \n",
    "def walk_func(self):\n",
    "    print('{}正在慢慢走过一片草坪'.format(self.name))\n",
    "    \n",
    "d1, d2 = Cat('Garfield'), Cat('Kityy')\n",
    "# 函数覆盖\n",
    "Cat.work = walk_func\n",
    "\n",
    "d1.work()\n",
    "d2.work()"
   ]
  },
  {
   "cell_type": "markdown",
   "metadata": {},
   "source": [
    "<span id=\"12\"></span>\n",
    "## 继承(Inheritence)\n",
    "### 子类继承父类所有的属性与方法\n",
    "### 本质上就是在实例化子类之前先实例化父类，但不同于类内子对象\n",
    "### [回目录](#0)"
   ]
  },
  {
   "cell_type": "code",
   "execution_count": 41,
   "metadata": {},
   "outputs": [
    {
     "name": "stdout",
     "output_type": "stream",
     "text": [
      "Hello, I am Zhang San.\n",
      "Hello, I am Zhang San.\n",
      "My score is :100\n"
     ]
    }
   ],
   "source": [
    "# Student继承Person\n",
    "class Student(Person):\n",
    "    def __init__(self,name = None):\n",
    "        Person.__init__(self,name) # 想要成为一个学生先要成为一个人\n",
    "        self.__score = 60\n",
    "    def set_score(self,score):\n",
    "        self.__score = score\n",
    "    \n",
    "    def get_score(self):\n",
    "        return self.__score\n",
    "\n",
    "    def show_score(self):\n",
    "        print('My score is :{}'.format(self.__score))\n",
    "        \n",
    "    def greet(self):     # 在子类中可以重写父类的方法\n",
    "        Person.greet(self) # 这里注意是调用Person，不然会陷入循环调用但要指明对象self\n",
    "        self.show_score()\n",
    "\n",
    "zs = Student(\"Zhang San\")\n",
    "zs.set_score(100)\n",
    "zs.greet()"
   ]
  },
  {
   "cell_type": "code",
   "execution_count": 42,
   "metadata": {},
   "outputs": [
    {
     "name": "stdout",
     "output_type": "stream",
     "text": [
      "Hello, I am Zhang San.\n",
      "Hello, I am Zhang San.\n",
      "Hello, I am Li Si.\n",
      "Hello, I am Li Si.\n",
      "My score is :100\n"
     ]
    }
   ],
   "source": [
    "# 继承重写同名方法，体现多态\n",
    "zs = Person('Zhang San')\n",
    "ls = Student('Li Si')\n",
    "ls.set_score(100)\n",
    "\n",
    "people = [zs,ls]\n",
    "\n",
    "for p in people:\n",
    "    p.greet()"
   ]
  },
  {
   "cell_type": "code",
   "execution_count": 43,
   "metadata": {},
   "outputs": [
    {
     "name": "stdout",
     "output_type": "stream",
     "text": [
      "True\n",
      "False\n",
      "False\n",
      "True\n",
      "<class '__main__.Student'>\n"
     ]
    }
   ],
   "source": [
    "# 查看子类对象和父类对象的从属关系\n",
    "print(issubclass(Student,Person))\n",
    "print(issubclass(Person,Student))\n",
    "print(isinstance(zs,Student))\n",
    "print(isinstance(ls,Student))\n",
    "print(ls.__class__)"
   ]
  },
  {
   "cell_type": "code",
   "execution_count": 44,
   "metadata": {},
   "outputs": [
    {
     "name": "stdout",
     "output_type": "stream",
     "text": [
      "我只能在地上奔跑...\n"
     ]
    }
   ],
   "source": [
    "# 同名覆盖\n",
    "class Bird:\n",
    "    def fly(self):\n",
    "        print('我在天空中自由自在地飞翔...')\n",
    "        \n",
    "class Ostrich(Bird):\n",
    "    def fly(self):\n",
    "        print('我只能在地上奔跑...')\n",
    "\n",
    "os = Ostrich()\n",
    "os.fly()"
   ]
  },
  {
   "cell_type": "code",
   "execution_count": 45,
   "metadata": {},
   "outputs": [
    {
     "name": "stdout",
     "output_type": "stream",
     "text": [
      "执行bar方法\n",
      "子类重写父类中的foo方法\n",
      "父类中定义的foo方法\n"
     ]
    }
   ],
   "source": [
    "# 通过类名访问父类中被子类覆盖的方法\n",
    "class BaseClass:\n",
    "    def foo(self):\n",
    "        print('父类中定义的foo方法')\n",
    "\n",
    "class SubClass(BaseClass):\n",
    "    def foo(self):\n",
    "        print('子类重写父类中的foo方法')\n",
    "    def bar(self):\n",
    "        print('执行bar方法')\n",
    "        self.foo()\n",
    "        BaseClass.foo(self)\n",
    "\n",
    "sc = SubClass()\n",
    "sc.bar()"
   ]
  },
  {
   "cell_type": "markdown",
   "metadata": {},
   "source": [
    "<span id=\"13\"></span>\n",
    "## 多重继\n",
    "### 承几乎是有问题的\n",
    "### 尽量少使用多继承\n",
    "### [回目录](#0)"
   ]
  },
  {
   "cell_type": "code",
   "execution_count": 46,
   "metadata": {},
   "outputs": [
    {
     "name": "stdout",
     "output_type": "stream",
     "text": [
      "My value is:  6\n"
     ]
    }
   ],
   "source": [
    "#简单多继承，直接耦合，无交集时不会有问题\n",
    "class Calculator:\n",
    "    def calculate(self,expression):\n",
    "        self.value = eval(expression)\n",
    "\n",
    "class Talker:\n",
    "    def talk(self):\n",
    "        print('My value is: ',self.value)\n",
    "        \n",
    "class TalkingCalculator(Calculator,Talker):\n",
    "    pass\n",
    "\n",
    "tc = TalkingCalculator()\n",
    "tc.calculate('1+2+3')\n",
    "tc.talk()"
   ]
  },
  {
   "cell_type": "code",
   "execution_count": 47,
   "metadata": {},
   "outputs": [
    {
     "name": "stdout",
     "output_type": "stream",
     "text": [
      "我是一个水果！重 5.6 克\n",
      "不同的事物口感不同\n"
     ]
    }
   ],
   "source": [
    "# Apple同时继承了Fruit和Food，同时拥有了它们各自的方法\n",
    "class Fruit:\n",
    "    def info(self):\n",
    "        print('我是一个水果！重 {} 克'.format(self.weight))\n",
    "    \n",
    "class Food:\n",
    "    def taste(self):\n",
    "        print('不同的事物口感不同')\n",
    "        \n",
    "class Apple(Fruit,Food):\n",
    "    pass\n",
    "\n",
    "a = Apple()\n",
    "a.weight = 5.6\n",
    "a.info()\n",
    "a.taste()"
   ]
  },
  {
   "cell_type": "code",
   "execution_count": 48,
   "metadata": {},
   "outputs": [
    {
     "name": "stdout",
     "output_type": "stream",
     "text": [
      "--Manager的构造方法--\n",
      "普通员工正在写代码，工资是25000\n",
      "我是一个顾客，我的爱好是：IT产品 ,地址是: 广州\n"
     ]
    }
   ],
   "source": [
    "# 多继承带来的构造方法调用混乱\n",
    "class Employee:\n",
    "    def __init__(self,salary):\n",
    "        self.salary = salary\n",
    "    \n",
    "    def work(self):\n",
    "        print('普通员工正在写代码，工资是{}'.format(self.salary))\n",
    "class Customer:\n",
    "    def __init__(self,favorite,address):\n",
    "        self.favorite = favorite\n",
    "        self.address = address\n",
    "    def info(self):\n",
    "        print('我是一个顾客，我的爱好是：{} ,地址是: {}'.format(self.favorite,self.address))\n",
    "\n",
    "class Manager(Employee,Customer):\n",
    "    def __init__(self,salary,favorite,address):\n",
    "        print('--Manager的构造方法--')\n",
    "        super().__init__(salary)\n",
    "        Customer.__init__(self,favorite,address)\n",
    "    \n",
    "m = Manager(25000,'IT产品','广州')\n",
    "m.work()\n",
    "m.info()"
   ]
  },
  {
   "cell_type": "markdown",
   "metadata": {},
   "source": [
    "<span id=\"14\"></span>\n",
    "## 继承再探究\n",
    "### 对于面向对象，很重要的一个问题是区分关系是*is-a*还是*has-a*\n",
    "* *is-a*代表的是类之间的继承关系\n",
    "* *has-a*代表的是对象和它的成员的从属关系\n",
    "* *is-a*基于类继承或接口实现\n",
    "* *has-a*关系是基于用法（即引用）而不是继承\n",
    "\n",
    "### [回目录](#0)"
   ]
  },
  {
   "cell_type": "code",
   "execution_count": 49,
   "metadata": {},
   "outputs": [
    {
     "name": "stdout",
     "output_type": "stream",
     "text": [
      "My value is:  None\n"
     ]
    }
   ],
   "source": [
    "# 子类和父类的同名变量并不共用\n",
    "class Calculator:\n",
    "    def calculate(self,expression):\n",
    "        self.__value = eval(expression)\n",
    "\n",
    "class Talker:\n",
    "    def talk(self,value):\n",
    "        print('My value is: ',value)\n",
    "        \n",
    "class TalkingCalculator(Calculator,Talker):\n",
    "    def __init__(self):\n",
    "        self.__calculator = Calculator()\n",
    "        self.__talker = Talker()\n",
    "        self.__value = None\n",
    "        \n",
    "    def calculate(self,expression):\n",
    "        self.__value = self.__calculator.calculate(expression)\n",
    "    \n",
    "    def talk(self):\n",
    "        self.__talker.talk(self.__value)\n",
    "        \n",
    "tc = TalkingCalculator()\n",
    "tc.calculate('1+2+3')\n",
    "tc.talk()"
   ]
  },
  {
   "cell_type": "code",
   "execution_count": 50,
   "metadata": {},
   "outputs": [
    {
     "name": "stdout",
     "output_type": "stream",
     "text": [
      "My value is: 6\n"
     ]
    }
   ],
   "source": [
    "# 使用函数返回值来获取子对象的部分数据\n",
    "class Calculator:\n",
    "    def calculate(self, expression):\n",
    "        return eval(expression)\n",
    "        \n",
    "class Talker:\n",
    "    def talk(self, value):\n",
    "        print('My value is:', value)\n",
    "        \n",
    "class TalkingCalculator:\n",
    "    def __init__(self):\n",
    "        self.__calculator = Calculator()\n",
    "        self.__talker = Talker()\n",
    "        self.__value = None\n",
    "        \n",
    "    def calculate(self, expression):\n",
    "        self.__value = self.__calculator.calculate(expression)\n",
    "    \n",
    "    def talk(self):\n",
    "        self.__talker.talk(self.__value)\n",
    "    \n",
    "\n",
    "tc = TalkingCalculator()\n",
    "tc.calculate('1 + 2 + 3')\n",
    "tc.talk()"
   ]
  },
  {
   "cell_type": "code",
   "execution_count": 51,
   "metadata": {},
   "outputs": [
    {
     "name": "stdout",
     "output_type": "stream",
     "text": [
      "My value is: 7\n"
     ]
    }
   ],
   "source": [
    "# 子对象和继承并存，这就是类的主要使用方法\n",
    "class Calculator:\n",
    "    def calculate(self, expression):\n",
    "        return eval(expression)\n",
    "        \n",
    "class Talker:\n",
    "    def talk(self, value):\n",
    "        print('My value is:', value)\n",
    "        \n",
    "class TalkingCalculator(Calculator):\n",
    "    def __init__(self):\n",
    "        self.__talker = Talker()\n",
    "        \n",
    "    def calculate(self, expression):\n",
    "        value = Calculator.calculate(self, expression)\n",
    "        self.__talker.talk(value)\n",
    "        \n",
    "tc = TalkingCalculator()\n",
    "tc.calculate('1 + 2 * 3')"
   ]
  },
  {
   "cell_type": "code",
   "execution_count": 52,
   "metadata": {},
   "outputs": [
    {
     "name": "stdout",
     "output_type": "stream",
     "text": [
      "screwing...\n",
      "cutting...\n"
     ]
    }
   ],
   "source": [
    "# 直接简单耦合\n",
    "class Screwdriver:\n",
    "    def screw(self):\n",
    "        print('screwing...')\n",
    "        \n",
    "class Knife:\n",
    "    def cut(self):\n",
    "        print('cutting...')\n",
    "        \n",
    "class SwissKnife(Screwdriver, Knife):\n",
    "    pass\n",
    "\n",
    "sk = SwissKnife()\n",
    "sk.screw()\n",
    "sk.cut()"
   ]
  },
  {
   "cell_type": "code",
   "execution_count": 53,
   "metadata": {},
   "outputs": [
    {
     "name": "stdout",
     "output_type": "stream",
     "text": [
      "screwing with a screwdriver of size 4...\n",
      "cutting...\n"
     ]
    }
   ],
   "source": [
    "# 在子类构造函数中实例化父类\n",
    "class Screwdriver:\n",
    "    def __init__(self, size):\n",
    "        self.size = size\n",
    "        \n",
    "    def screw(self):\n",
    "        print('screwing with a screwdriver of size {}...'.format(self.size))\n",
    "        \n",
    "class Knife:\n",
    "    def cut(self):\n",
    "        print('cutting...')\n",
    "        \n",
    "class SwissKnife(Screwdriver, Knife):\n",
    "    def __init__(self, screwdriver_size):\n",
    "        Screwdriver.__init__(self, screwdriver_size)\n",
    "        Knife.__init__(self)\n",
    "\n",
    "sk = SwissKnife(4)\n",
    "sk.screw()\n",
    "sk.cut()"
   ]
  },
  {
   "cell_type": "code",
   "execution_count": 54,
   "metadata": {},
   "outputs": [
    {
     "name": "stdout",
     "output_type": "stream",
     "text": [
      "Fork is not a valid tool, work() not found.\n",
      "screwing with a screwdriver of size 10...\n",
      "screwing with a screwdriver of size 2...\n",
      "cutting...\n",
      "chasing a ball...\n",
      "Fork not found.\n"
     ]
    }
   ],
   "source": [
    "# 通过过滤的方式筛选需要的子对象\n",
    "class Screwdriver:\n",
    "    def __init__(self, size):\n",
    "        self.size = size\n",
    "        \n",
    "    def work(self):\n",
    "        print('screwing with a screwdriver of size {}...'.format(self.size))\n",
    "        \n",
    "class Knife:\n",
    "    def work(self):\n",
    "        print('cutting...')\n",
    "\n",
    "class Dog:\n",
    "    def work(self):\n",
    "        print('chasing a ball...')\n",
    "\n",
    "class Fork:\n",
    "    def pick(self):\n",
    "        print('picking...')\n",
    "        \n",
    "class SwissKnife:\n",
    "    def __init__(self):\n",
    "        self.tools = {}\n",
    "    \n",
    "    def add_tool(self, name, tool):\n",
    "        if callable(getattr(tool, 'work', None)):\n",
    "            self.tools[name] = tool\n",
    "        else:\n",
    "            print('{} is not a valid tool, work() not found.'.format(name))\n",
    "    \n",
    "    def use_tool(self, name):\n",
    "        tool = self.tools.get(name)\n",
    "        if tool is not None:\n",
    "            tool.work() # 多态的应用\n",
    "        else:\n",
    "            print('{} not found.'.format(name))\n",
    "    \n",
    "sk = SwissKnife()\n",
    "sk.add_tool('Knife', Knife())\n",
    "sk.add_tool('Big screwdriver', Screwdriver(10))\n",
    "sk.add_tool('Small screwdriver', Screwdriver(2))\n",
    "sk.add_tool('Dog', Dog())\n",
    "sk.add_tool('Fork', Fork())\n",
    "sk.use_tool('Big screwdriver')\n",
    "sk.use_tool('Small screwdriver')\n",
    "sk.use_tool('Knife')\n",
    "sk.use_tool('Dog')\n",
    "sk.use_tool('Fork')"
   ]
  },
  {
   "cell_type": "code",
   "execution_count": 55,
   "metadata": {},
   "outputs": [
    {
     "name": "stdout",
     "output_type": "stream",
     "text": [
      "True\n",
      "False\n",
      "True\n",
      "None\n",
      "Help on built-in function getattr in module builtins:\n",
      "\n",
      "getattr(...)\n",
      "    getattr(object, name[, default]) -> value\n",
      "    \n",
      "    Get a named attribute from an object; getattr(x, 'y') is equivalent to x.y.\n",
      "    When a default argument is given, it is returned when the attribute doesn't\n",
      "    exist; without it, an exception is raised in that case.\n",
      "\n",
      "False\n",
      "False\n",
      "{'cut': None}\n"
     ]
    }
   ],
   "source": [
    "# callable、hasattr、getattr的使用\n",
    "knife = Knife()\n",
    "print(hasattr(knife, 'work'))\n",
    "print(hasattr(knife, 'cut'))\n",
    "print(callable(getattr(knife, 'work')))\n",
    "print(setattr(knife, 'cut', None))\n",
    "help(getattr)\n",
    "print(callable(getattr(knife, 'cut')))\n",
    "print(callable(getattr(knife, 'screw', None)))\n",
    "print(knife.__dict__)"
   ]
  },
  {
   "cell_type": "markdown",
   "metadata": {},
   "source": [
    "<span id=\"15\"></span>\n",
    "## 接口(interface)\n",
    "### 要遵从特定的接口，abc abstract base class\n",
    "### 接口限定了类的部分属性\n",
    "### [回目录](#0)"
   ]
  },
  {
   "cell_type": "code",
   "execution_count": 56,
   "metadata": {},
   "outputs": [],
   "source": [
    "#通过定义这个类是为了定义一个接口\n",
    "from abc import ABC,abstractmethod\n",
    "\n",
    "class Tool(ABC): #tool是ABC的子类\n",
    "    @abstractmethod #修饰器\n",
    "    def work(self):\n",
    "        pass"
   ]
  },
  {
   "cell_type": "code",
   "execution_count": 57,
   "metadata": {},
   "outputs": [
    {
     "name": "stdout",
     "output_type": "stream",
     "text": [
      "Dog is not a valid tool,not derived from class Tool.\n",
      "Big screwdriver: screwing... with a screwdriver of size Large...\n",
      "Small screwdriver: screwing... with a screwdriver of size Small...\n",
      "Knife: cutting...\n",
      "Dog: not found.\n"
     ]
    }
   ],
   "source": [
    "#不同类对接口的不同实现\n",
    "class Screwdriver(Tool):\n",
    "    def __init__(self,size = 'Middle'):\n",
    "        self.__size = size\n",
    "        \n",
    "    def work(self):\n",
    "        print('screwing... with a screwdriver of size {}...'.format(self.__size))\n",
    "\n",
    "class Knife(Tool):\n",
    "    def work(self):\n",
    "        print('cutting...')\n",
    "        \n",
    "class Dog:\n",
    "    def work(self):\n",
    "        print('chasing a ball....')\n",
    "    \n",
    "class Fork(Tool):\n",
    "    def work(self):\n",
    "        print('picking...')\n",
    "        \n",
    "class SwissKnife:\n",
    "    def __init__(self):\n",
    "        self.tools = {}\n",
    "        \n",
    "    def add_tool(self,name,tool):\n",
    "        if isinstance(tool,Tool):\n",
    "            self.tools[name] = tool\n",
    "        else:\n",
    "            print('{} is not a valid tool,not derived from class Tool.'.format(name))\n",
    "            \n",
    "    def use_tool(self,name):\n",
    "        tool = self.tools.get(name)\n",
    "        print('{}: '.format(name),end ='')\n",
    "        if tool is not None:\n",
    "            tool.work()  #多态的应用\n",
    "        else:\n",
    "            print('not found.'.format(name))\n",
    "            \n",
    "sk = SwissKnife()\n",
    "sk.add_tool('Knife',Knife())\n",
    "sk.add_tool('Big screwdriver',Screwdriver('Large'))\n",
    "sk.add_tool('Small screwdriver',Screwdriver('Small'))\n",
    "sk.add_tool('Dog',Dog())\n",
    "sk.add_tool('Fork',Fork())\n",
    "sk.use_tool('Big screwdriver')\n",
    "sk.use_tool('Small screwdriver')\n",
    "sk.use_tool('Knife')\n",
    "sk.use_tool('Dog')"
   ]
  },
  {
   "cell_type": "markdown",
   "metadata": {},
   "source": [
    "<span id=\"16\"></span>\n",
    "## 隐藏和封装(encapsulation)\n",
    "### [回目录](#0)"
   ]
  },
  {
   "cell_type": "code",
   "execution_count": 58,
   "metadata": {},
   "outputs": [
    {
     "name": "stdout",
     "output_type": "stream",
     "text": [
      "[1, 2, 3]\n"
     ]
    },
    {
     "ename": "AttributeError",
     "evalue": "'SpamFilter' object has no attribute '_Filter__blocked'",
     "output_type": "error",
     "traceback": [
      "\u001b[1;31m---------------------------------------------------------------------------\u001b[0m",
      "\u001b[1;31mAttributeError\u001b[0m                            Traceback (most recent call last)",
      "\u001b[1;32m<ipython-input-58-34cbe1838045>\u001b[0m in \u001b[0;36m<module>\u001b[1;34m\u001b[0m\n\u001b[0;32m     15\u001b[0m \u001b[1;33m\u001b[0m\u001b[0m\n\u001b[0;32m     16\u001b[0m \u001b[0msf\u001b[0m \u001b[1;33m=\u001b[0m \u001b[0mSpamFilter\u001b[0m\u001b[1;33m(\u001b[0m\u001b[1;33m)\u001b[0m\u001b[1;33m\u001b[0m\u001b[1;33m\u001b[0m\u001b[0m\n\u001b[1;32m---> 17\u001b[1;33m \u001b[0msf\u001b[0m\u001b[1;33m.\u001b[0m\u001b[0mfilter\u001b[0m\u001b[1;33m(\u001b[0m\u001b[1;33m[\u001b[0m\u001b[1;34m'SPAM'\u001b[0m\u001b[1;33m,\u001b[0m\u001b[1;34m'SPAM'\u001b[0m\u001b[1;33m,\u001b[0m\u001b[1;34m'bacon'\u001b[0m\u001b[1;33m]\u001b[0m\u001b[1;33m)\u001b[0m\u001b[1;33m\u001b[0m\u001b[1;33m\u001b[0m\u001b[0m\n\u001b[0m",
      "\u001b[1;32m<ipython-input-58-34cbe1838045>\u001b[0m in \u001b[0;36mfilter\u001b[1;34m(self, sequence)\u001b[0m\n\u001b[0;32m      5\u001b[0m \u001b[1;33m\u001b[0m\u001b[0m\n\u001b[0;32m      6\u001b[0m     \u001b[1;32mdef\u001b[0m \u001b[0mfilter\u001b[0m\u001b[1;33m(\u001b[0m\u001b[0mself\u001b[0m\u001b[1;33m,\u001b[0m\u001b[0msequence\u001b[0m\u001b[1;33m)\u001b[0m\u001b[1;33m:\u001b[0m\u001b[1;33m\u001b[0m\u001b[1;33m\u001b[0m\u001b[0m\n\u001b[1;32m----> 7\u001b[1;33m         \u001b[1;32mreturn\u001b[0m \u001b[1;33m[\u001b[0m \u001b[0mx\u001b[0m \u001b[1;32mfor\u001b[0m \u001b[0mx\u001b[0m \u001b[1;32min\u001b[0m \u001b[0msequence\u001b[0m \u001b[1;32mif\u001b[0m \u001b[0mx\u001b[0m \u001b[1;32mnot\u001b[0m \u001b[1;32min\u001b[0m \u001b[0mself\u001b[0m\u001b[1;33m.\u001b[0m\u001b[0m__blocked\u001b[0m\u001b[1;33m]\u001b[0m\u001b[1;33m\u001b[0m\u001b[1;33m\u001b[0m\u001b[0m\n\u001b[0m\u001b[0;32m      8\u001b[0m \u001b[1;33m\u001b[0m\u001b[0m\n\u001b[0;32m      9\u001b[0m \u001b[1;32mclass\u001b[0m \u001b[0mSpamFilter\u001b[0m\u001b[1;33m(\u001b[0m\u001b[0mFilter\u001b[0m\u001b[1;33m)\u001b[0m\u001b[1;33m:\u001b[0m\u001b[1;33m\u001b[0m\u001b[1;33m\u001b[0m\u001b[0m\n",
      "\u001b[1;32m<ipython-input-58-34cbe1838045>\u001b[0m in \u001b[0;36m<listcomp>\u001b[1;34m(.0)\u001b[0m\n\u001b[0;32m      5\u001b[0m \u001b[1;33m\u001b[0m\u001b[0m\n\u001b[0;32m      6\u001b[0m     \u001b[1;32mdef\u001b[0m \u001b[0mfilter\u001b[0m\u001b[1;33m(\u001b[0m\u001b[0mself\u001b[0m\u001b[1;33m,\u001b[0m\u001b[0msequence\u001b[0m\u001b[1;33m)\u001b[0m\u001b[1;33m:\u001b[0m\u001b[1;33m\u001b[0m\u001b[1;33m\u001b[0m\u001b[0m\n\u001b[1;32m----> 7\u001b[1;33m         \u001b[1;32mreturn\u001b[0m \u001b[1;33m[\u001b[0m \u001b[0mx\u001b[0m \u001b[1;32mfor\u001b[0m \u001b[0mx\u001b[0m \u001b[1;32min\u001b[0m \u001b[0msequence\u001b[0m \u001b[1;32mif\u001b[0m \u001b[0mx\u001b[0m \u001b[1;32mnot\u001b[0m \u001b[1;32min\u001b[0m \u001b[0mself\u001b[0m\u001b[1;33m.\u001b[0m\u001b[0m__blocked\u001b[0m\u001b[1;33m]\u001b[0m\u001b[1;33m\u001b[0m\u001b[1;33m\u001b[0m\u001b[0m\n\u001b[0m\u001b[0;32m      8\u001b[0m \u001b[1;33m\u001b[0m\u001b[0m\n\u001b[0;32m      9\u001b[0m \u001b[1;32mclass\u001b[0m \u001b[0mSpamFilter\u001b[0m\u001b[1;33m(\u001b[0m\u001b[0mFilter\u001b[0m\u001b[1;33m)\u001b[0m\u001b[1;33m:\u001b[0m\u001b[1;33m\u001b[0m\u001b[1;33m\u001b[0m\u001b[0m\n",
      "\u001b[1;31mAttributeError\u001b[0m: 'SpamFilter' object has no attribute '_Filter__blocked'"
     ]
    }
   ],
   "source": [
    "# 子类不可直接访问父类的私有变量\n",
    "class Filter:\n",
    "    def __init__(self):\n",
    "        self.__blocked = []\n",
    "    \n",
    "    def filter(self,sequence):\n",
    "        return [ x for x in sequence if x not in self.__blocked]\n",
    "    \n",
    "class SpamFilter(Filter):\n",
    "    def __init__(self):\n",
    "       Filter.__blocked =['SPAM']\n",
    "    \n",
    "f = Filter()\n",
    "print(f.filter([1,2,3]))\n",
    "\n",
    "sf = SpamFilter()\n",
    "sf.filter(['SPAM','SPAM','bacon'])"
   ]
  },
  {
   "cell_type": "markdown",
   "metadata": {},
   "source": [
    "<span id=\"17\"></span>\n",
    "## 使用property函数定义属性\n",
    "### [回目录](#0)"
   ]
  },
  {
   "cell_type": "code",
   "execution_count": 59,
   "metadata": {},
   "outputs": [
    {
     "name": "stdout",
     "output_type": "stream",
     "text": [
      "(3, 4)\n",
      "(3, 4)\n"
     ]
    },
    {
     "ename": "AssertionError",
     "evalue": "",
     "output_type": "error",
     "traceback": [
      "\u001b[1;31m---------------------------------------------------------------------------\u001b[0m",
      "\u001b[1;31mAssertionError\u001b[0m                            Traceback (most recent call last)",
      "\u001b[1;32m<ipython-input-59-c71c7fb884f8>\u001b[0m in \u001b[0;36m<module>\u001b[1;34m\u001b[0m\n\u001b[0;32m     23\u001b[0m \u001b[0mprint\u001b[0m\u001b[1;33m(\u001b[0m\u001b[0mrect\u001b[0m\u001b[1;33m.\u001b[0m\u001b[0msize\u001b[0m\u001b[1;33m)\u001b[0m\u001b[1;33m\u001b[0m\u001b[1;33m\u001b[0m\u001b[0m\n\u001b[0;32m     24\u001b[0m \u001b[1;33m\u001b[0m\u001b[0m\n\u001b[1;32m---> 25\u001b[1;33m \u001b[0mrect\u001b[0m\u001b[1;33m.\u001b[0m\u001b[0msize\u001b[0m \u001b[1;33m=\u001b[0m \u001b[1;33m(\u001b[0m\u001b[1;33m-\u001b[0m\u001b[1;36m3\u001b[0m\u001b[1;33m,\u001b[0m\u001b[1;36m4\u001b[0m\u001b[1;33m)\u001b[0m\u001b[1;33m\u001b[0m\u001b[1;33m\u001b[0m\u001b[0m\n\u001b[0m",
      "\u001b[1;32m<ipython-input-59-c71c7fb884f8>\u001b[0m in \u001b[0;36mset_size\u001b[1;34m(self, size)\u001b[0m\n\u001b[0;32m      6\u001b[0m \u001b[1;33m\u001b[0m\u001b[0m\n\u001b[0;32m      7\u001b[0m     \u001b[1;32mdef\u001b[0m \u001b[0mset_size\u001b[0m\u001b[1;33m(\u001b[0m\u001b[0mself\u001b[0m\u001b[1;33m,\u001b[0m\u001b[0msize\u001b[0m\u001b[1;33m)\u001b[0m\u001b[1;33m:\u001b[0m\u001b[1;33m\u001b[0m\u001b[1;33m\u001b[0m\u001b[0m\n\u001b[1;32m----> 8\u001b[1;33m         \u001b[1;32massert\u001b[0m\u001b[1;33m(\u001b[0m\u001b[0msize\u001b[0m\u001b[1;33m[\u001b[0m\u001b[1;36m0\u001b[0m\u001b[1;33m]\u001b[0m \u001b[1;33m>=\u001b[0m \u001b[1;36m0\u001b[0m \u001b[1;32mand\u001b[0m \u001b[0msize\u001b[0m\u001b[1;33m[\u001b[0m\u001b[1;36m1\u001b[0m\u001b[1;33m]\u001b[0m \u001b[1;33m>=\u001b[0m\u001b[1;36m0\u001b[0m\u001b[1;33m)\u001b[0m\u001b[1;33m\u001b[0m\u001b[1;33m\u001b[0m\u001b[0m\n\u001b[0m\u001b[0;32m      9\u001b[0m         \u001b[0mself\u001b[0m\u001b[1;33m.\u001b[0m\u001b[0mwidth\u001b[0m\u001b[1;33m,\u001b[0m\u001b[0mself\u001b[0m\u001b[1;33m.\u001b[0m\u001b[0mheight\u001b[0m \u001b[1;33m=\u001b[0m \u001b[0msize\u001b[0m\u001b[1;33m\u001b[0m\u001b[1;33m\u001b[0m\u001b[0m\n\u001b[0;32m     10\u001b[0m \u001b[1;33m\u001b[0m\u001b[0m\n",
      "\u001b[1;31mAssertionError\u001b[0m: "
     ]
    }
   ],
   "source": [
    "# property可以设定函数检验输入\n",
    "class Rectangle:\n",
    "    def __init__(self):\n",
    "        self.width =0\n",
    "        self.height = 0\n",
    "        \n",
    "    def set_size(self,size):\n",
    "        assert(size[0] >= 0 and size[1] >=0)\n",
    "        self.width,self.height = size\n",
    "    \n",
    "    def get_size(self):\n",
    "        return self.width,self.height\n",
    "    \n",
    "    def delsize(self):\n",
    "        self.width,self.height = 0,0\n",
    "        \n",
    "    size = property(get_size,set_size,'用于描述矩阵大小的属性')\n",
    "    \n",
    "rect = Rectangle()\n",
    "rect.set_size((3,4))\n",
    "\n",
    "print(rect.get_size())\n",
    "print(rect.size)\n",
    "\n",
    "rect.size = (-3,4)"
   ]
  },
  {
   "cell_type": "code",
   "execution_count": 60,
   "metadata": {},
   "outputs": [
    {
     "name": "stdout",
     "output_type": "stream",
     "text": [
      "用于描述矩阵大小的属性\n",
      "Help on property:\n",
      "\n",
      "    用于描述矩阵大小的属性\n",
      "\n",
      "(4, 3)\n",
      "9\n",
      "7\n",
      "0\n",
      "0\n"
     ]
    }
   ],
   "source": [
    "# del可以删除部分变量的值\n",
    "class Rectangle:\n",
    "    def __init__(self,width,height):\n",
    "        self.width = width\n",
    "        self.height = height\n",
    "    \n",
    "    def setsize(self,size):\n",
    "        self.width,self.height = size\n",
    "    \n",
    "    def getsize(self):\n",
    "        return self.width,self.height\n",
    "    \n",
    "    def delsize(self):\n",
    "        self.width,self.height = 0,0\n",
    "        \n",
    "    size = property(getsize,setsize,delsize,'用于描述矩阵大小的属性')\n",
    "    \n",
    "print(Rectangle.size.__doc__)\n",
    "help(Rectangle.size)\n",
    "\n",
    "rect = Rectangle(4,3)\n",
    "print(rect.size)\n",
    "rect.size = 9,7\n",
    "print(rect.width)\n",
    "print(rect.height)\n",
    "del rect.size\n",
    "print(rect.width)\n",
    "print(rect.height)"
   ]
  },
  {
   "cell_type": "code",
   "execution_count": 61,
   "metadata": {},
   "outputs": [
    {
     "name": "stdout",
     "output_type": "stream",
     "text": [
      "5\n"
     ]
    }
   ],
   "source": [
    "# property综合使用\n",
    "class Rectangle:\n",
    "    def __init__(self):\n",
    "        self.__width =0\n",
    "        self.__height = 0\n",
    "        \n",
    "    def set_size(self,size):\n",
    "        assert(size[0] >= 0 and size[1] >=0)\n",
    "        self.__width,self.__height = size\n",
    "    \n",
    "    def get_size(self):\n",
    "        return self.__width,self.__height\n",
    "    \n",
    "    size = property(get_size,set_size)\n",
    "    \n",
    "    def get_width(self):\n",
    "        return self.__width\n",
    "\n",
    "    def set_width(self,width):\n",
    "        if width < 0 :raise ValueError\n",
    "        self.__width = width\n",
    "    \n",
    "    def get_height(self):\n",
    "        return self.__height\n",
    "    \n",
    "    def set_height(self,height):\n",
    "        if height < 0:raise ValueError\n",
    "        self.__height = height\n",
    "    \n",
    "    width = property(get_width,set_width)\n",
    "    height = property(get_height,set_height)\n",
    "    \n",
    "rect = Rectangle()\n",
    "rect.width = 5 \n",
    "print(rect.width)"
   ]
  },
  {
   "cell_type": "code",
   "execution_count": 62,
   "metadata": {},
   "outputs": [
    {
     "name": "stdout",
     "output_type": "stream",
     "text": [
      "悟空,孙\n",
      "八戒\n",
      "朱\n"
     ]
    }
   ],
   "source": [
    "# 名字检验\n",
    "class User:\n",
    "    def __init__(self,first,last):\n",
    "        self.first = first\n",
    "        self.last = last\n",
    "    \n",
    "    def getfullname(self):\n",
    "        return self.first + ',' + self.last\n",
    "\n",
    "    def setfullname(self,fullname):\n",
    "        first_last = fullname.rsplit(',')\n",
    "        self.first = first_last[0]\n",
    "        self.last = first_last[1]\n",
    "        \n",
    "    fullname = property(getfullname,setfullname)\n",
    "\n",
    "u = User('悟空','孙')\n",
    "print(u.fullname)\n",
    "u.fullname = '八戒,朱'\n",
    "print(u.first)\n",
    "print(u.last)"
   ]
  },
  {
   "cell_type": "code",
   "execution_count": 63,
   "metadata": {},
   "outputs": [
    {
     "name": "stdout",
     "output_type": "stream",
     "text": [
      "alive\n",
      "False\n"
     ]
    }
   ],
   "source": [
    "# 装饰器实现\n",
    "class Cell:\n",
    "    @property \n",
    "    def state(self):\n",
    "        return self._state\n",
    "    \n",
    "    @state.setter\n",
    "    def state(self,value):\n",
    "        if 'alive' in value.lower():\n",
    "            self._state = 'alive'\n",
    "        else:\n",
    "            self._state = 'dead'\n",
    "    \n",
    "    @property\n",
    "    def is_dead(self):\n",
    "        return not self._state.lower() == 'alive'\n",
    "    \n",
    "c = Cell()\n",
    "c.state = 'Alive'\n",
    "print(c.state)\n",
    "print(c.is_dead)"
   ]
  },
  {
   "cell_type": "code",
   "execution_count": 64,
   "metadata": {},
   "outputs": [
    {
     "name": "stdout",
     "output_type": "stream",
     "text": [
      "hello\n",
      "fkit\n",
      "25\n"
     ]
    },
    {
     "ename": "ValueError",
     "evalue": "用户名字必须在3-8之间",
     "output_type": "error",
     "traceback": [
      "\u001b[1;31m---------------------------------------------------------------------------\u001b[0m",
      "\u001b[1;31mValueError\u001b[0m                                Traceback (most recent call last)",
      "\u001b[1;32m<ipython-input-64-5bb05a24d07f>\u001b[0m in \u001b[0;36m<module>\u001b[1;34m\u001b[0m\n\u001b[0;32m     28\u001b[0m \u001b[0mprint\u001b[0m\u001b[1;33m(\u001b[0m\u001b[0mu\u001b[0m\u001b[1;33m.\u001b[0m\u001b[0mage\u001b[0m\u001b[1;33m)\u001b[0m\u001b[1;33m\u001b[0m\u001b[1;33m\u001b[0m\u001b[0m\n\u001b[0;32m     29\u001b[0m \u001b[1;33m\u001b[0m\u001b[0m\n\u001b[1;32m---> 30\u001b[1;33m \u001b[0mu\u001b[0m\u001b[1;33m.\u001b[0m\u001b[0mname\u001b[0m \u001b[1;33m=\u001b[0m \u001b[1;34m'fk'\u001b[0m\u001b[1;33m\u001b[0m\u001b[1;33m\u001b[0m\u001b[0m\n\u001b[0m",
      "\u001b[1;32m<ipython-input-64-5bb05a24d07f>\u001b[0m in \u001b[0;36msetname\u001b[1;34m(self, name)\u001b[0m\n\u001b[0;32m      7\u001b[0m     \u001b[1;32mdef\u001b[0m \u001b[0msetname\u001b[0m\u001b[1;33m(\u001b[0m\u001b[0mself\u001b[0m\u001b[1;33m,\u001b[0m\u001b[0mname\u001b[0m\u001b[1;33m)\u001b[0m\u001b[1;33m:\u001b[0m\u001b[1;33m\u001b[0m\u001b[1;33m\u001b[0m\u001b[0m\n\u001b[0;32m      8\u001b[0m         \u001b[1;32mif\u001b[0m \u001b[0mlen\u001b[0m\u001b[1;33m(\u001b[0m\u001b[0mname\u001b[0m\u001b[1;33m)\u001b[0m \u001b[1;33m<\u001b[0m \u001b[1;36m3\u001b[0m \u001b[1;32mor\u001b[0m \u001b[0mlen\u001b[0m\u001b[1;33m(\u001b[0m\u001b[0mname\u001b[0m\u001b[1;33m)\u001b[0m \u001b[1;33m>\u001b[0m\u001b[1;36m8\u001b[0m\u001b[1;33m:\u001b[0m\u001b[1;33m\u001b[0m\u001b[1;33m\u001b[0m\u001b[0m\n\u001b[1;32m----> 9\u001b[1;33m             \u001b[1;32mraise\u001b[0m \u001b[0mValueError\u001b[0m\u001b[1;33m(\u001b[0m\u001b[1;34m'用户名字必须在3-8之间'\u001b[0m\u001b[1;33m)\u001b[0m\u001b[1;33m\u001b[0m\u001b[1;33m\u001b[0m\u001b[0m\n\u001b[0m\u001b[0;32m     10\u001b[0m         \u001b[0mself\u001b[0m\u001b[1;33m.\u001b[0m\u001b[0m__name\u001b[0m \u001b[1;33m=\u001b[0m \u001b[0mname\u001b[0m\u001b[1;33m\u001b[0m\u001b[1;33m\u001b[0m\u001b[0m\n\u001b[0;32m     11\u001b[0m \u001b[1;33m\u001b[0m\u001b[0m\n",
      "\u001b[1;31mValueError\u001b[0m: 用户名字必须在3-8之间"
     ]
    }
   ],
   "source": [
    "# 不同的变量设置方式\n",
    "class User:\n",
    "    \n",
    "    def getname(self):\n",
    "        return self.__name\n",
    "    \n",
    "    def setname(self,name):\n",
    "        if len(name) < 3 or len(name) >8:\n",
    "            raise ValueError('用户名字必须在3-8之间')\n",
    "        self.__name = name\n",
    "    \n",
    "    name = property(getname,setname)\n",
    "    def setage(self,age):\n",
    "        if age < 18 or age > 70:\n",
    "            raise ValueError('用户名字必须在18-70之间')\n",
    "        self.__age = age\n",
    "    \n",
    "    def getage(self):\n",
    "        return self.__age\n",
    "    \n",
    "u = User()\n",
    "u.setname('hello')\n",
    "print(u.getname())\n",
    "\n",
    "u.name = 'fkit'\n",
    "u.age = 25\n",
    "print(u.name)\n",
    "print(u.age)\n",
    "\n",
    "u.name = 'fk'"
   ]
  },
  {
   "cell_type": "markdown",
   "metadata": {},
   "source": [
    "<span id=\"18\"></span>\n",
    "## 异常处理\n",
    "### [回目录](#0)"
   ]
  },
  {
   "cell_type": "code",
   "execution_count": 65,
   "metadata": {},
   "outputs": [
    {
     "ename": "ZeroDivisionError",
     "evalue": "division by zero",
     "output_type": "error",
     "traceback": [
      "\u001b[1;31m---------------------------------------------------------------------------\u001b[0m",
      "\u001b[1;31mZeroDivisionError\u001b[0m                         Traceback (most recent call last)",
      "\u001b[1;32m<ipython-input-65-415c0b2d49d7>\u001b[0m in \u001b[0;36m<module>\u001b[1;34m\u001b[0m\n\u001b[0;32m      1\u001b[0m \u001b[1;31m# ZeroDivisionError\u001b[0m\u001b[1;33m\u001b[0m\u001b[1;33m\u001b[0m\u001b[1;33m\u001b[0m\u001b[0m\n\u001b[1;32m----> 2\u001b[1;33m \u001b[1;36m1\u001b[0m \u001b[1;33m/\u001b[0m \u001b[1;36m0\u001b[0m\u001b[1;33m\u001b[0m\u001b[1;33m\u001b[0m\u001b[0m\n\u001b[0m",
      "\u001b[1;31mZeroDivisionError\u001b[0m: division by zero"
     ]
    }
   ],
   "source": [
    "# ZeroDivisionError \n",
    "1 / 0"
   ]
  },
  {
   "cell_type": "code",
   "execution_count": 66,
   "metadata": {},
   "outputs": [
    {
     "ename": "Exception",
     "evalue": "",
     "output_type": "error",
     "traceback": [
      "\u001b[1;31m---------------------------------------------------------------------------\u001b[0m",
      "\u001b[1;31mException\u001b[0m                                 Traceback (most recent call last)",
      "\u001b[1;32m<ipython-input-66-1b0cce75ddf7>\u001b[0m in \u001b[0;36m<module>\u001b[1;34m\u001b[0m\n\u001b[0;32m      1\u001b[0m \u001b[1;31m# 直接抛出异常\u001b[0m\u001b[1;33m\u001b[0m\u001b[1;33m\u001b[0m\u001b[1;33m\u001b[0m\u001b[0m\n\u001b[1;32m----> 2\u001b[1;33m \u001b[1;32mraise\u001b[0m \u001b[0mException\u001b[0m\u001b[1;33m\u001b[0m\u001b[1;33m\u001b[0m\u001b[0m\n\u001b[0m",
      "\u001b[1;31mException\u001b[0m: "
     ]
    }
   ],
   "source": [
    "# 直接抛出异常\n",
    "raise Exception"
   ]
  },
  {
   "cell_type": "code",
   "execution_count": 67,
   "metadata": {},
   "outputs": [
    {
     "ename": "Exception",
     "evalue": "System fault",
     "output_type": "error",
     "traceback": [
      "\u001b[1;31m---------------------------------------------------------------------------\u001b[0m",
      "\u001b[1;31mException\u001b[0m                                 Traceback (most recent call last)",
      "\u001b[1;32m<ipython-input-67-c4e305bd070a>\u001b[0m in \u001b[0;36m<module>\u001b[1;34m\u001b[0m\n\u001b[0;32m      1\u001b[0m \u001b[1;31m# 抛出自定义异常\u001b[0m\u001b[1;33m\u001b[0m\u001b[1;33m\u001b[0m\u001b[1;33m\u001b[0m\u001b[0m\n\u001b[1;32m----> 2\u001b[1;33m \u001b[1;32mraise\u001b[0m \u001b[0mException\u001b[0m\u001b[1;33m(\u001b[0m\u001b[1;34m'System fault'\u001b[0m\u001b[1;33m)\u001b[0m\u001b[1;33m\u001b[0m\u001b[1;33m\u001b[0m\u001b[0m\n\u001b[0m",
      "\u001b[1;31mException\u001b[0m: System fault"
     ]
    }
   ],
   "source": [
    "# 抛出自定义异常\n",
    "raise Exception('System fault')"
   ]
  },
  {
   "cell_type": "code",
   "execution_count": 68,
   "metadata": {},
   "outputs": [
    {
     "ename": "MyException",
     "evalue": "",
     "output_type": "error",
     "traceback": [
      "\u001b[1;31m---------------------------------------------------------------------------\u001b[0m",
      "\u001b[1;31mMyException\u001b[0m                               Traceback (most recent call last)",
      "\u001b[1;32m<ipython-input-68-a1172debd399>\u001b[0m in \u001b[0;36m<module>\u001b[1;34m\u001b[0m\n\u001b[0;32m      3\u001b[0m     \u001b[1;32mpass\u001b[0m\u001b[1;33m\u001b[0m\u001b[1;33m\u001b[0m\u001b[0m\n\u001b[0;32m      4\u001b[0m \u001b[1;33m\u001b[0m\u001b[0m\n\u001b[1;32m----> 5\u001b[1;33m \u001b[1;32mraise\u001b[0m \u001b[0mMyException\u001b[0m\u001b[1;33m(\u001b[0m\u001b[1;33m)\u001b[0m\u001b[1;33m\u001b[0m\u001b[1;33m\u001b[0m\u001b[0m\n\u001b[0m",
      "\u001b[1;31mMyException\u001b[0m: "
     ]
    }
   ],
   "source": [
    "# 继承Exception类\n",
    "class MyException(Exception):\n",
    "    pass\n",
    "\n",
    "raise MyException()"
   ]
  },
  {
   "cell_type": "code",
   "execution_count": 69,
   "metadata": {},
   "outputs": [
    {
     "name": "stdout",
     "output_type": "stream",
     "text": [
      "Please input a number: 1\n",
      "Please input a number: 0\n",
      "The sceond number cannot be 0!\n"
     ]
    }
   ],
   "source": [
    "# input时需要处理异常\n",
    "try:\n",
    "    x = int(input('Please input a number: '))\n",
    "    y = int(input('Please input a number: '))\n",
    "    print('{}/{} = {}'.format(x,y,x/y))\n",
    "    print('hello')\n",
    "except ZeroDivisionError:\n",
    "    print('The sceond number cannot be 0!')"
   ]
  },
  {
   "cell_type": "code",
   "execution_count": 70,
   "metadata": {},
   "outputs": [
    {
     "name": "stdout",
     "output_type": "stream",
     "text": [
      "2.0\n"
     ]
    }
   ],
   "source": [
    "# ZeroDivisionError\n",
    "def calc(expression,no_throw = False):\n",
    "    try:\n",
    "        return eval(expression)\n",
    "    except ZeroDivisionError:\n",
    "        if no_throw:\n",
    "            print('Division by zero.')\n",
    "        else: raise \n",
    "\n",
    "print(calc('10/5'))"
   ]
  },
  {
   "cell_type": "code",
   "execution_count": 71,
   "metadata": {},
   "outputs": [
    {
     "ename": "ZeroDivisionError",
     "evalue": "division by zero",
     "output_type": "error",
     "traceback": [
      "\u001b[1;31m---------------------------------------------------------------------------\u001b[0m",
      "\u001b[1;31mZeroDivisionError\u001b[0m                         Traceback (most recent call last)",
      "\u001b[1;32m<ipython-input-71-0de0970899ee>\u001b[0m in \u001b[0;36m<module>\u001b[1;34m\u001b[0m\n\u001b[0;32m      1\u001b[0m \u001b[1;31m# 分母为零\u001b[0m\u001b[1;33m\u001b[0m\u001b[1;33m\u001b[0m\u001b[1;33m\u001b[0m\u001b[0m\n\u001b[1;32m----> 2\u001b[1;33m \u001b[0mcalc\u001b[0m\u001b[1;33m(\u001b[0m\u001b[1;34m'10/0'\u001b[0m\u001b[1;33m)\u001b[0m\u001b[1;33m\u001b[0m\u001b[1;33m\u001b[0m\u001b[0m\n\u001b[0m",
      "\u001b[1;32m<ipython-input-70-ae56018ad941>\u001b[0m in \u001b[0;36mcalc\u001b[1;34m(expression, no_throw)\u001b[0m\n\u001b[0;32m      2\u001b[0m \u001b[1;32mdef\u001b[0m \u001b[0mcalc\u001b[0m\u001b[1;33m(\u001b[0m\u001b[0mexpression\u001b[0m\u001b[1;33m,\u001b[0m\u001b[0mno_throw\u001b[0m \u001b[1;33m=\u001b[0m \u001b[1;32mFalse\u001b[0m\u001b[1;33m)\u001b[0m\u001b[1;33m:\u001b[0m\u001b[1;33m\u001b[0m\u001b[1;33m\u001b[0m\u001b[0m\n\u001b[0;32m      3\u001b[0m     \u001b[1;32mtry\u001b[0m\u001b[1;33m:\u001b[0m\u001b[1;33m\u001b[0m\u001b[1;33m\u001b[0m\u001b[0m\n\u001b[1;32m----> 4\u001b[1;33m         \u001b[1;32mreturn\u001b[0m \u001b[0meval\u001b[0m\u001b[1;33m(\u001b[0m\u001b[0mexpression\u001b[0m\u001b[1;33m)\u001b[0m\u001b[1;33m\u001b[0m\u001b[1;33m\u001b[0m\u001b[0m\n\u001b[0m\u001b[0;32m      5\u001b[0m     \u001b[1;32mexcept\u001b[0m \u001b[0mZeroDivisionError\u001b[0m\u001b[1;33m:\u001b[0m\u001b[1;33m\u001b[0m\u001b[1;33m\u001b[0m\u001b[0m\n\u001b[0;32m      6\u001b[0m         \u001b[1;32mif\u001b[0m \u001b[0mno_throw\u001b[0m\u001b[1;33m:\u001b[0m\u001b[1;33m\u001b[0m\u001b[1;33m\u001b[0m\u001b[0m\n",
      "\u001b[1;32m<string>\u001b[0m in \u001b[0;36m<module>\u001b[1;34m\u001b[0m\n",
      "\u001b[1;31mZeroDivisionError\u001b[0m: division by zero"
     ]
    }
   ],
   "source": [
    "# 分母为零\n",
    "calc('10/0')"
   ]
  },
  {
   "cell_type": "code",
   "execution_count": 72,
   "metadata": {},
   "outputs": [
    {
     "name": "stdout",
     "output_type": "stream",
     "text": [
      "Division by zero.\n"
     ]
    }
   ],
   "source": [
    "# 改变函数默认参数\n",
    "calc('10/0',True)"
   ]
  },
  {
   "cell_type": "code",
   "execution_count": 73,
   "metadata": {},
   "outputs": [
    {
     "ename": "ValueError",
     "evalue": "",
     "output_type": "error",
     "traceback": [
      "\u001b[1;31m---------------------------------------------------------------------------\u001b[0m",
      "\u001b[1;31mValueError\u001b[0m                                Traceback (most recent call last)",
      "\u001b[1;32m<ipython-input-73-fbca6f6d4c9c>\u001b[0m in \u001b[0;36m<module>\u001b[1;34m\u001b[0m\n\u001b[0;32m      8\u001b[0m         \u001b[1;32melse\u001b[0m\u001b[1;33m:\u001b[0m \u001b[1;32mraise\u001b[0m \u001b[0mValueError\u001b[0m \u001b[1;32mfrom\u001b[0m \u001b[1;32mNone\u001b[0m\u001b[1;33m\u001b[0m\u001b[1;33m\u001b[0m\u001b[0m\n\u001b[0;32m      9\u001b[0m \u001b[1;33m\u001b[0m\u001b[0m\n\u001b[1;32m---> 10\u001b[1;33m \u001b[0mcalc\u001b[0m\u001b[1;33m(\u001b[0m\u001b[1;34m'10/0'\u001b[0m\u001b[1;33m)\u001b[0m\u001b[1;33m\u001b[0m\u001b[1;33m\u001b[0m\u001b[0m\n\u001b[0m",
      "\u001b[1;32m<ipython-input-73-fbca6f6d4c9c>\u001b[0m in \u001b[0;36mcalc\u001b[1;34m(expression, no_throw)\u001b[0m\n\u001b[0;32m      6\u001b[0m         \u001b[1;32mif\u001b[0m \u001b[0mno_throw\u001b[0m\u001b[1;33m:\u001b[0m\u001b[1;33m\u001b[0m\u001b[1;33m\u001b[0m\u001b[0m\n\u001b[0;32m      7\u001b[0m             \u001b[0mprint\u001b[0m\u001b[1;33m(\u001b[0m\u001b[1;34m'Division by zero.'\u001b[0m\u001b[1;33m)\u001b[0m\u001b[1;33m\u001b[0m\u001b[1;33m\u001b[0m\u001b[0m\n\u001b[1;32m----> 8\u001b[1;33m         \u001b[1;32melse\u001b[0m\u001b[1;33m:\u001b[0m \u001b[1;32mraise\u001b[0m \u001b[0mValueError\u001b[0m \u001b[1;32mfrom\u001b[0m \u001b[1;32mNone\u001b[0m\u001b[1;33m\u001b[0m\u001b[1;33m\u001b[0m\u001b[0m\n\u001b[0m\u001b[0;32m      9\u001b[0m \u001b[1;33m\u001b[0m\u001b[0m\n\u001b[0;32m     10\u001b[0m \u001b[0mcalc\u001b[0m\u001b[1;33m(\u001b[0m\u001b[1;34m'10/0'\u001b[0m\u001b[1;33m)\u001b[0m\u001b[1;33m\u001b[0m\u001b[1;33m\u001b[0m\u001b[0m\n",
      "\u001b[1;31mValueError\u001b[0m: "
     ]
    }
   ],
   "source": [
    "#只显示value error\n",
    "def calc(expression,no_throw = False):\n",
    "    try:\n",
    "        return eval(expression)\n",
    "    except ZeroDivisionError:\n",
    "        if no_throw:\n",
    "            print('Division by zero.')\n",
    "        else: raise ValueError from None \n",
    "            \n",
    "calc('10/0')"
   ]
  },
  {
   "cell_type": "code",
   "execution_count": 74,
   "metadata": {},
   "outputs": [
    {
     "name": "stdout",
     "output_type": "stream",
     "text": [
      "Please input a number: 1\n",
      "Please input a number: a\n",
      "Invalid value.\n"
     ]
    }
   ],
   "source": [
    "# 处理不同的异常\n",
    "try :\n",
    "    x = int(input('Please input a number: '))\n",
    "    y = int(input('Please input a number: '))\n",
    "    print('{}/{} = {}'.format(x,y,x/y))\n",
    "    print('hello')\n",
    "except ZeroDivisionError:\n",
    "    print('The sceond number cannot be 0!')\n",
    "except ValueError:\n",
    "    print('Invalid value.')"
   ]
  },
  {
   "cell_type": "code",
   "execution_count": 75,
   "metadata": {},
   "outputs": [
    {
     "name": "stdout",
     "output_type": "stream",
     "text": [
      "Please input a number: 1\n",
      "Please input a number: a\n",
      "The error is : invalid literal for int() with base 10: 'a'\n"
     ]
    }
   ],
   "source": [
    "# 异常写在一起\n",
    "try :\n",
    "    x = int(input('Please input a number: '))\n",
    "    y = int(input('Please input a number: '))\n",
    "    print('{}/{} = {}'.format(x,y,x/y))\n",
    "    print('hello')\n",
    "except (ZeroDivisionError,ValueError) as e:\n",
    "    print('The error is : {}'.format(e))"
   ]
  },
  {
   "cell_type": "code",
   "execution_count": 76,
   "metadata": {},
   "outputs": [
    {
     "name": "stdout",
     "output_type": "stream",
     "text": [
      "Please input a number: 1\n",
      "Please input a number: a\n",
      "The error is : invalid literal for int() with base 10: 'a'\n",
      "Please input a number: 1\n",
      "Please input a number: 0\n",
      "The error is : division by zero\n",
      "Please input a number: 1\n",
      "Please input a number: 1\n",
      "1/1 = 1.0\n"
     ]
    }
   ],
   "source": [
    "# try与else共用\n",
    "while True:\n",
    "    try :\n",
    "        x = int(input('Please input a number: '))\n",
    "        y = int(input('Please input a number: '))\n",
    "        print('{}/{} = {}'.format(x,y,x/y))\n",
    "    except (ZeroDivisionError,ValueError) as e:\n",
    "        print('The error is : {}'.format(e))\n",
    "    else: #如果没有发生异常可以执行else部分，即退出while循环\n",
    "        break\n",
    "    "
   ]
  },
  {
   "cell_type": "code",
   "execution_count": 77,
   "metadata": {},
   "outputs": [
    {
     "name": "stdout",
     "output_type": "stream",
     "text": [
      "cleaning up ...\n"
     ]
    },
    {
     "ename": "ZeroDivisionError",
     "evalue": "division by zero",
     "output_type": "error",
     "traceback": [
      "\u001b[1;31m---------------------------------------------------------------------------\u001b[0m",
      "\u001b[1;31mZeroDivisionError\u001b[0m                         Traceback (most recent call last)",
      "\u001b[1;32m<ipython-input-77-9e4d341af984>\u001b[0m in \u001b[0;36m<module>\u001b[1;34m\u001b[0m\n\u001b[0;32m      2\u001b[0m \u001b[0mx\u001b[0m \u001b[1;33m=\u001b[0m \u001b[1;32mNone\u001b[0m\u001b[1;33m\u001b[0m\u001b[1;33m\u001b[0m\u001b[0m\n\u001b[0;32m      3\u001b[0m \u001b[1;32mtry\u001b[0m\u001b[1;33m:\u001b[0m\u001b[1;33m\u001b[0m\u001b[1;33m\u001b[0m\u001b[0m\n\u001b[1;32m----> 4\u001b[1;33m     \u001b[0mx\u001b[0m \u001b[1;33m=\u001b[0m \u001b[1;36m1\u001b[0m\u001b[1;33m/\u001b[0m\u001b[1;36m0\u001b[0m\u001b[1;33m\u001b[0m\u001b[1;33m\u001b[0m\u001b[0m\n\u001b[0m\u001b[0;32m      5\u001b[0m \u001b[1;32mfinally\u001b[0m\u001b[1;33m:\u001b[0m \u001b[1;31m# try block如果添加finally，finally这个块里面的还是会被执行，finally一般用于资源释放或当文件有错误时正常关闭\u001b[0m\u001b[1;33m\u001b[0m\u001b[1;33m\u001b[0m\u001b[0m\n\u001b[0;32m      6\u001b[0m     \u001b[0mprint\u001b[0m\u001b[1;33m(\u001b[0m\u001b[1;34m'cleaning up ...'\u001b[0m\u001b[1;33m)\u001b[0m\u001b[1;33m\u001b[0m\u001b[1;33m\u001b[0m\u001b[0m\n",
      "\u001b[1;31mZeroDivisionError\u001b[0m: division by zero"
     ]
    }
   ],
   "source": [
    "# finally的作用\n",
    "x = None\n",
    "try:\n",
    "    x = 1/0\n",
    "finally: # try block如果添加finally，finally这个块里面的还是会被执行，finally一般用于资源释放或当文件有错误时正常关闭\n",
    "    print('cleaning up ...')\n",
    "    del x\n"
   ]
  },
  {
   "cell_type": "code",
   "execution_count": 78,
   "metadata": {},
   "outputs": [
    {
     "name": "stdout",
     "output_type": "stream",
     "text": [
      "outer...before call inner.\n",
      "inner...\n"
     ]
    },
    {
     "ename": "Exception",
     "evalue": "",
     "output_type": "error",
     "traceback": [
      "\u001b[1;31m---------------------------------------------------------------------------\u001b[0m",
      "\u001b[1;31mException\u001b[0m                                 Traceback (most recent call last)",
      "\u001b[1;32m<ipython-input-78-c72012cef7da>\u001b[0m in \u001b[0;36m<module>\u001b[1;34m\u001b[0m\n\u001b[0;32m      8\u001b[0m     \u001b[0mprint\u001b[0m\u001b[1;33m(\u001b[0m\u001b[1;34m'outer...after call inner.'\u001b[0m\u001b[1;33m)\u001b[0m\u001b[1;33m\u001b[0m\u001b[1;33m\u001b[0m\u001b[0m\n\u001b[0;32m      9\u001b[0m \u001b[1;33m\u001b[0m\u001b[0m\n\u001b[1;32m---> 10\u001b[1;33m \u001b[0mouter\u001b[0m\u001b[1;33m(\u001b[0m\u001b[1;33m)\u001b[0m \u001b[1;31m#可以显示调用栈，可以看到这个函数在被使用的时候出错了\u001b[0m\u001b[1;33m\u001b[0m\u001b[1;33m\u001b[0m\u001b[0m\n\u001b[0m",
      "\u001b[1;32m<ipython-input-78-c72012cef7da>\u001b[0m in \u001b[0;36mouter\u001b[1;34m()\u001b[0m\n\u001b[0;32m      5\u001b[0m \u001b[1;32mdef\u001b[0m \u001b[0mouter\u001b[0m\u001b[1;33m(\u001b[0m\u001b[1;33m)\u001b[0m\u001b[1;33m:\u001b[0m\u001b[1;33m\u001b[0m\u001b[1;33m\u001b[0m\u001b[0m\n\u001b[0;32m      6\u001b[0m     \u001b[0mprint\u001b[0m\u001b[1;33m(\u001b[0m\u001b[1;34m'outer...before call inner.'\u001b[0m\u001b[1;33m)\u001b[0m\u001b[1;33m\u001b[0m\u001b[1;33m\u001b[0m\u001b[0m\n\u001b[1;32m----> 7\u001b[1;33m     \u001b[0minner\u001b[0m\u001b[1;33m(\u001b[0m\u001b[1;33m)\u001b[0m\u001b[1;33m\u001b[0m\u001b[1;33m\u001b[0m\u001b[0m\n\u001b[0m\u001b[0;32m      8\u001b[0m     \u001b[0mprint\u001b[0m\u001b[1;33m(\u001b[0m\u001b[1;34m'outer...after call inner.'\u001b[0m\u001b[1;33m)\u001b[0m\u001b[1;33m\u001b[0m\u001b[1;33m\u001b[0m\u001b[0m\n\u001b[0;32m      9\u001b[0m \u001b[1;33m\u001b[0m\u001b[0m\n",
      "\u001b[1;32m<ipython-input-78-c72012cef7da>\u001b[0m in \u001b[0;36minner\u001b[1;34m()\u001b[0m\n\u001b[0;32m      2\u001b[0m \u001b[1;32mdef\u001b[0m \u001b[0minner\u001b[0m\u001b[1;33m(\u001b[0m\u001b[1;33m)\u001b[0m\u001b[1;33m:\u001b[0m\u001b[1;33m\u001b[0m\u001b[1;33m\u001b[0m\u001b[0m\n\u001b[0;32m      3\u001b[0m     \u001b[0mprint\u001b[0m\u001b[1;33m(\u001b[0m\u001b[1;34m'inner...'\u001b[0m\u001b[1;33m)\u001b[0m\u001b[1;33m\u001b[0m\u001b[1;33m\u001b[0m\u001b[0m\n\u001b[1;32m----> 4\u001b[1;33m     \u001b[1;32mraise\u001b[0m \u001b[0mException\u001b[0m\u001b[1;33m\u001b[0m\u001b[1;33m\u001b[0m\u001b[0m\n\u001b[0m\u001b[0;32m      5\u001b[0m \u001b[1;32mdef\u001b[0m \u001b[0mouter\u001b[0m\u001b[1;33m(\u001b[0m\u001b[1;33m)\u001b[0m\u001b[1;33m:\u001b[0m\u001b[1;33m\u001b[0m\u001b[1;33m\u001b[0m\u001b[0m\n\u001b[0;32m      6\u001b[0m     \u001b[0mprint\u001b[0m\u001b[1;33m(\u001b[0m\u001b[1;34m'outer...before call inner.'\u001b[0m\u001b[1;33m)\u001b[0m\u001b[1;33m\u001b[0m\u001b[1;33m\u001b[0m\u001b[0m\n",
      "\u001b[1;31mException\u001b[0m: "
     ]
    }
   ],
   "source": [
    "# 查看哪个函数出了错\n",
    "def inner():\n",
    "    print('inner...')\n",
    "    raise Exception\n",
    "def outer(): \n",
    "    print('outer...before call inner.')\n",
    "    inner()\n",
    "    print('outer...after call inner.')\n",
    "\n",
    "outer() #可以显示调用栈，可以看到这个函数在被使用的时候出错了"
   ]
  },
  {
   "cell_type": "markdown",
   "metadata": {},
   "source": [
    "<span id=\"19\"></span>\n",
    "## 函数装饰器\n",
    "### 通过函数装饰器为函数添加功能\n",
    "### [回目录](#0)"
   ]
  },
  {
   "cell_type": "code",
   "execution_count": 79,
   "metadata": {},
   "outputs": [
    {
     "name": "stdout",
     "output_type": "stream",
     "text": [
      "<function foo.<locals>.bar at 0x0000017CB5B23318>\n",
      "===1=== (10,)\n",
      "===2=== 90\n",
      "my_test\n",
      "===my_test函数== 90\n",
      "***************\n",
      "===my_test函数== 90\n",
      "===1=== (6, 5)\n",
      "===2=== 30\n",
      "my_test\n",
      "===my_test函数== 30\n",
      "***************\n",
      "===my_test函数== 30\n"
     ]
    }
   ],
   "source": [
    "# 在不改变foo代码的情况下给foo添加功能\n",
    "def foo(fn):\n",
    "    def bar(*args):\n",
    "        print(\"===1===\",args)\n",
    "        n = args[0]\n",
    "        print(\"===2===\",n*(n-1))\n",
    "        \n",
    "        print(fn.__name__)\n",
    "        fn(n*(n-1))\n",
    "        print('*'*15)\n",
    "        return fn(n*(n-1))\n",
    "    return bar\n",
    "\n",
    "@foo\n",
    "def my_test(a):\n",
    "    print('===my_test函数==',a)\n",
    "print(my_test)\n",
    "\n",
    "my_test(10)\n",
    "my_test(6,5)"
   ]
  },
  {
   "cell_type": "code",
   "execution_count": 80,
   "metadata": {},
   "outputs": [
    {
     "name": "stdout",
     "output_type": "stream",
     "text": [
      "----模拟执行权限检查----\n",
      "执行test函数，参数a: 20,参数b: 15\n"
     ]
    }
   ],
   "source": [
    "# 为函数添加权限检查的功能\n",
    "def auth(fn):\n",
    "    def auth_fn(*args):\n",
    "        print('----模拟执行权限检查----')\n",
    "        fn(*args)\n",
    "    return auth_fn\n",
    "\n",
    "@auth\n",
    "def test(a,b):\n",
    "    print('执行test函数，参数a: {0},参数b: {1}'.format(a,b))\n",
    "\n",
    "test(20,15)"
   ]
  },
  {
   "cell_type": "code",
   "execution_count": 81,
   "metadata": {},
   "outputs": [
    {
     "name": "stdout",
     "output_type": "stream",
     "text": [
      "(3, 4)\n",
      "3\n",
      "4\n"
     ]
    }
   ],
   "source": [
    "# 装饰器的综合使用\n",
    "class Rectangle:\n",
    "    def __init__(self):\n",
    "        self.__width =0\n",
    "        self.__height = 0\n",
    "    \n",
    "    @property\n",
    "    def size(self):\n",
    "        return self.__width,self.__height\n",
    "    \n",
    "    @size.setter\n",
    "    def size(self,size):\n",
    "        assert(size[0] >= 0 and size[1] >=0)\n",
    "        self.__width,self.__height = size\n",
    "    \n",
    "    #size = property(get_size,set_size)\n",
    "    @property\n",
    "    def width(self):\n",
    "        return self.__width\n",
    "    \n",
    "    @width.setter\n",
    "    def width(self,width):\n",
    "        if width < 0 :raise ValueError\n",
    "        self.__width = width\n",
    "    \n",
    "    @property\n",
    "    def height(self):\n",
    "        return self.__height\n",
    "    \n",
    "    @height.setter\n",
    "    def height(self,height):\n",
    "        if height < 0:raise ValueError\n",
    "        self.__height = height\n",
    "    \n",
    "rect = Rectangle()\n",
    "rect.size = (3,4)\n",
    "print(rect.size)\n",
    "print(rect.width)\n",
    "print(rect.height)   "
   ]
  },
  {
   "cell_type": "markdown",
   "metadata": {},
   "source": [
    "<span id=\"20\"></span>\n",
    "## 迭代器(Iterator)\n",
    "### [回目录](#0)"
   ]
  },
  {
   "cell_type": "code",
   "execution_count": 82,
   "metadata": {},
   "outputs": [
    {
     "name": "stdout",
     "output_type": "stream",
     "text": [
      "1 2 3 "
     ]
    }
   ],
   "source": [
    "# Iterator\n",
    "my_list = [1,2,3]\n",
    "for i in my_list:\n",
    "    print(i,end = ' ')"
   ]
  },
  {
   "cell_type": "code",
   "execution_count": 83,
   "metadata": {},
   "outputs": [
    {
     "ename": "SyntaxError",
     "evalue": "invalid syntax (<ipython-input-83-a5b01f71db47>, line 14)",
     "output_type": "error",
     "traceback": [
      "\u001b[1;36m  File \u001b[1;32m\"<ipython-input-83-a5b01f71db47>\"\u001b[1;36m, line \u001b[1;32m14\u001b[0m\n\u001b[1;33m    return self--\u001b[0m\n\u001b[1;37m                 ^\u001b[0m\n\u001b[1;31mSyntaxError\u001b[0m\u001b[1;31m:\u001b[0m invalid syntax\n"
     ]
    }
   ],
   "source": [
    "# 分离容器类和iterator对象\n",
    "# 容器类__iter__() 返回Iterator对象\n",
    "# iterator对象要实现__next__(),返回容器下一个项目\n",
    "class Fibs:\n",
    "    def __init__(self):\n",
    "        self.a = 0\n",
    "        self.b = 1\n",
    "    \n",
    "    def __next__(self):\n",
    "        self.a,self.b = self.b,self.a + self.b\n",
    "        return self.a\n",
    "    \n",
    "    def __iter__(self): # 第一步通过iter方法告诉python对象谁实现了next方法，返回self,表明自己实现了next方法\n",
    "        return self--\n",
    "\n",
    "for i in Fibs():\n",
    "    print(i,end =' ')\n",
    "    if i > 1000:break"
   ]
  },
  {
   "cell_type": "code",
   "execution_count": 84,
   "metadata": {},
   "outputs": [
    {
     "name": "stdout",
     "output_type": "stream",
     "text": [
      "1 1 2 3 5 8 13 21 34 55 89 144 233 377 610 987 "
     ]
    }
   ],
   "source": [
    "# 斐波那契数列\n",
    "class Fibs:\n",
    "    def __init__(self,max):\n",
    "        self.a = 0\n",
    "        self.b = 1\n",
    "        self.max = max\n",
    "    \n",
    "    def __next__(self):\n",
    "        self.a,self.b = self.b,self.a + self.b\n",
    "        if self.a > self.max:raise StopIteration\n",
    "        return self.a\n",
    "    \n",
    "    def __iter__(self): # 第一步通过iter方法告诉python对象谁实现了next方法，返回self,表明自己实现了next方法\n",
    "        return self\n",
    "    \n",
    "for i in Fibs(1000):\n",
    "    print(i,end = ' ')"
   ]
  },
  {
   "cell_type": "code",
   "execution_count": null,
   "metadata": {},
   "outputs": [],
   "source": []
  }
 ],
 "metadata": {
  "celltoolbar": "Raw Cell Format",
  "kernelspec": {
   "display_name": "Python 3",
   "language": "python",
   "name": "python3"
  },
  "language_info": {
   "codemirror_mode": {
    "name": "ipython",
    "version": 3
   },
   "file_extension": ".py",
   "mimetype": "text/x-python",
   "name": "python",
   "nbconvert_exporter": "python",
   "pygments_lexer": "ipython3",
   "version": "3.6.4"
  }
 },
 "nbformat": 4,
 "nbformat_minor": 2
}
