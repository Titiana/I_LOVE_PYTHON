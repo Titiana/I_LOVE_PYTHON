{
 "cells": [
  {
   "cell_type": "markdown",
   "metadata": {},
   "source": [
    "# Something About List \n",
    "## Contents\n",
    "## 1.The Methods of List\n",
    "## 2.Monte Carlo Simulation\n",
    "## 3.Schema——Table-driven\n",
    "## 4.Append & Pop模拟Stack/Queue\n",
    "## 5.Jupyter Magic -Timing(%time, %timeit)"
   ]
  },
  {
   "cell_type": "markdown",
   "metadata": {},
   "source": [
    "# 1. the methods of list \n",
    "### 1.1 append and extend 添加\n",
    "### 1.2 clear and pop and remove 删除 或 del 语句\n",
    "### 1.3 copy vs deep copy\n",
    "### 1.4 count and index\n",
    "### 1.5 insert and reverse\n",
    "### 1.6 sort vs sorted()"
   ]
  },
  {
   "cell_type": "markdown",
   "metadata": {},
   "source": [
    "### 1.1 append and extend:\n",
    "### append()既可以接收单个值，也可以接收元组、列表等，但该方法只是把元组、列表当成单个元素\n",
    "### 如果不希望把增加的列表当成一个整体，可以使用extend()"
   ]
  },
  {
   "cell_type": "code",
   "execution_count": 1,
   "metadata": {},
   "outputs": [
    {
     "name": "stdout",
     "output_type": "stream",
     "text": [
      "[1, 2, 3, 4, 5]\n",
      "[1, 2, 3, 4, 5, 8]\n",
      "[1, 2, 3, 4, 5, 8, [1, 2, 3]]\n"
     ]
    }
   ],
   "source": [
    "a = list(range(1,6))\n",
    "print(a)\n",
    "a.append(8)\n",
    "print(a)\n",
    "a.append([1,2,3])\n",
    "print(a)"
   ]
  },
  {
   "cell_type": "code",
   "execution_count": 2,
   "metadata": {},
   "outputs": [
    {
     "name": "stdout",
     "output_type": "stream",
     "text": [
      "[1, 2, 3, 4, 5]\n",
      "[1, 2, 3, 4, 5, 1, 2, 3]\n"
     ]
    }
   ],
   "source": [
    "b = list(range(1,6))\n",
    "print(b)\n",
    "b.extend([1,2,3])\n",
    "print(b)"
   ]
  },
  {
   "cell_type": "markdown",
   "metadata": {},
   "source": [
    "### 1.2 clear and pop and remove 删除 或 del 语句\n",
    "### del语句是python中专门用于执行删除操作，可以删除单个元素，或直接删除一段\n",
    "### clear()是用于清空所有元素\n",
    "### pop()将列表当成栈，实现出栈功能\n",
    "### remove()根据元素本身来执行删除"
   ]
  },
  {
   "cell_type": "code",
   "execution_count": 3,
   "metadata": {},
   "outputs": [
    {
     "name": "stdout",
     "output_type": "stream",
     "text": [
      "[1, 2, 3, 4, 5]\n",
      "[1, 2, 3, 5]\n"
     ]
    }
   ],
   "source": [
    "a = list(range(1,6))\n",
    "print(a)\n",
    "del a[3] # delete the third one\n",
    "print(a)"
   ]
  },
  {
   "cell_type": "code",
   "execution_count": 4,
   "metadata": {},
   "outputs": [
    {
     "name": "stdout",
     "output_type": "stream",
     "text": [
      "[1, 2, 3, 5]\n",
      "[]\n"
     ]
    }
   ],
   "source": [
    "print(a)\n",
    "a.clear()  \n",
    "print(a)"
   ]
  },
  {
   "cell_type": "code",
   "execution_count": 5,
   "metadata": {},
   "outputs": [
    {
     "name": "stdout",
     "output_type": "stream",
     "text": [
      "[1, 2, 3, 4, 5, 6, 7, 8, 9]\n",
      "[1, 2, 4, 5, 6, 7, 8, 9]\n"
     ]
    }
   ],
   "source": [
    "b = list(range(1,10))\n",
    "print(b)\n",
    "b.remove(3)\n",
    "print(b)"
   ]
  },
  {
   "cell_type": "code",
   "execution_count": 6,
   "metadata": {},
   "outputs": [
    {
     "name": "stdout",
     "output_type": "stream",
     "text": [
      "[1, 2, 3, 4, 5, 6, 7, 8, 9]\n",
      "9\n",
      "[1, 2, 3, 4, 5, 6, 7, 8]\n"
     ]
    }
   ],
   "source": [
    "b = list(range(1,10))\n",
    "print(b)\n",
    "x = b.pop() #默认是最后一个元素\n",
    "print(x)\n",
    "print(b)\n"
   ]
  },
  {
   "cell_type": "code",
   "execution_count": 7,
   "metadata": {},
   "outputs": [
    {
     "name": "stdout",
     "output_type": "stream",
     "text": [
      "4\n",
      "[1, 2, 3, 5, 6, 7, 8, 9]\n"
     ]
    }
   ],
   "source": [
    "b = list(range(1,10))\n",
    "x = b.pop(3) #指定位置pop,把位置3的pop了\n",
    "print(x)\n",
    "print(b)"
   ]
  },
  {
   "cell_type": "markdown",
   "metadata": {},
   "source": [
    "### 1.3 copy vs deep copy\n",
    "### 首先要了解为什么需要用到copy(),即希望改变原来列表的同时但不改变其备份，即希望二者不要相互干扰"
   ]
  },
  {
   "cell_type": "code",
   "execution_count": 8,
   "metadata": {},
   "outputs": [
    {
     "name": "stdout",
     "output_type": "stream",
     "text": [
      "[1, 2, 3, 4, 5, 6, 7, 8, 9]\n",
      "[1, 2, 3, 4, 5, 6, 7, 8, 9]\n",
      "[1, 2, 3, 4, 5, 6, 7, 8, 12]\n",
      "[1, 2, 3, 4, 5, 6, 7, 8, 12]\n"
     ]
    }
   ],
   "source": [
    "a = list(range(1,10))\n",
    "b = a # b指向与a相同的列表\n",
    "print(a)\n",
    "print(b)\n",
    "a[8] = 12 #改变a[8]\n",
    "print(a)\n",
    "print(b)"
   ]
  },
  {
   "cell_type": "code",
   "execution_count": 9,
   "metadata": {},
   "outputs": [
    {
     "name": "stdout",
     "output_type": "stream",
     "text": [
      "[1, 2, 3, 4, 5, 6, 7, 8, 9]\n",
      "[1, 2, 3, 4, 5, 6, 7, 8, 9]\n",
      "[1, 2, 3, 4, 5, 6, 7, 8, 12]\n",
      "[1, 2, 3, 4, 5, 6, 7, 8, 9]\n"
     ]
    }
   ],
   "source": [
    "a = list(range(1,10))\n",
    "b = a.copy() # b是一个副本\n",
    "print(a)\n",
    "print(b)\n",
    "a[8] = 12 #改变a[8]，看看b[8]有没有变呢？\n",
    "print(a)\n",
    "print(b)"
   ]
  },
  {
   "cell_type": "markdown",
   "metadata": {},
   "source": [
    "### 但是通过copy()有时候仍然会出问题\n",
    "### 当list里面还嵌套了list，那么copy()就对嵌套里面的list失效\n",
    "### 我的理解是copy的时候只是copy了嵌套list的首地址，那新的名字本质上还是指向旧地址（理解不一定对）\n",
    "### 真正想要解决这个问题就用到了deep copy,需要调用copy库，就像洋葱一样一层一层都copy"
   ]
  },
  {
   "cell_type": "code",
   "execution_count": 10,
   "metadata": {},
   "outputs": [
    {
     "name": "stdout",
     "output_type": "stream",
     "text": [
      "[1, 2, 3, [7, 5, 6]]\n",
      "[1, 2, 3, [7, 5, 6]]\n"
     ]
    }
   ],
   "source": [
    "a = [1,2,3,[4,5,6]]\n",
    "b = a.copy()\n",
    "a[3][0] = 7\n",
    "print(a)\n",
    "print(b)"
   ]
  },
  {
   "cell_type": "code",
   "execution_count": 11,
   "metadata": {},
   "outputs": [
    {
     "name": "stdout",
     "output_type": "stream",
     "text": [
      "a : [1, 2, 3, [4, 5, 6]]\n",
      "b : [1, 2, 3, [4, 5, 6]]\n",
      "a : [1, 2, 3, [7, 5, 6]]\n",
      "b : [1, 2, 3, [4, 5, 6]]\n"
     ]
    }
   ],
   "source": [
    "from copy import deepcopy\n",
    "a = [1,2,3,[4,5,6]]\n",
    "b = deepcopy(a)\n",
    "print('a :',a)\n",
    "print('b :',b)\n",
    "a[3][0] = 7\n",
    "print('a :',a)\n",
    "print('b :',b)"
   ]
  },
  {
   "cell_type": "markdown",
   "metadata": {},
   "source": [
    "### 1.4 count and index\n",
    "### count()用于统计某个元素出现次数\n",
    "### index()返回某个元素出现的位置"
   ]
  },
  {
   "cell_type": "code",
   "execution_count": 12,
   "metadata": {},
   "outputs": [
    {
     "name": "stdout",
     "output_type": "stream",
     "text": [
      "3\n"
     ]
    }
   ],
   "source": [
    "a = [1,2,3,1,1,2,3]\n",
    "print(a.count(1)) #数字1出现的次数"
   ]
  },
  {
   "cell_type": "code",
   "execution_count": 13,
   "metadata": {},
   "outputs": [
    {
     "name": "stdout",
     "output_type": "stream",
     "text": [
      "0\n"
     ]
    }
   ],
   "source": [
    "a = [1,2,3,1,1,2,3]\n",
    "print(a.index(1)) #返回1出现的位置，只返回第1个出现的1的位置"
   ]
  },
  {
   "cell_type": "code",
   "execution_count": 14,
   "metadata": {},
   "outputs": [
    {
     "name": "stdout",
     "output_type": "stream",
     "text": [
      "3\n",
      "4\n"
     ]
    }
   ],
   "source": [
    "a = [1,2,3,1,1,2,3]\n",
    "print(a.index(1,1,4))#返回1出现的第二个位置，因为限定范围从索引1开始\n",
    "print(a.index(1,4))#返回1出现的第三个位置，因为限定范围从索引4开始"
   ]
  },
  {
   "cell_type": "markdown",
   "metadata": {},
   "source": [
    "### 1.5 insert and reverse\n",
    "### insert(index,obj)\n",
    "### reverse()就是反转\n",
    "### 两者的共同特点是不返回啥,所以就放在一起了"
   ]
  },
  {
   "cell_type": "code",
   "execution_count": 15,
   "metadata": {},
   "outputs": [
    {
     "name": "stdout",
     "output_type": "stream",
     "text": [
      "[1, 2, 3, 4]\n",
      "[1, 2, 3, 9, 4]\n"
     ]
    }
   ],
   "source": [
    "a = list(range(1,5))\n",
    "print(a)\n",
    "a.insert(3,9)#索引3处插入9\n",
    "print(a)"
   ]
  },
  {
   "cell_type": "code",
   "execution_count": 16,
   "metadata": {},
   "outputs": [
    {
     "name": "stdout",
     "output_type": "stream",
     "text": [
      "[1, 2, 3, 4]\n",
      "[4, 3, 2, 1]\n"
     ]
    }
   ],
   "source": [
    "a = list(range(1,5))\n",
    "print(a)\n",
    "a.reverse()\n",
    "print(a)"
   ]
  },
  {
   "cell_type": "markdown",
   "metadata": {},
   "source": [
    "### 1.6 sort() vs sorted()\n",
    "### sort()是list的method,调用此方法会直接改变list,无返回值\n",
    "### sorted()是python内置函数，可对所有可以迭代的对象进行排序，结果会返回一个新的list,不会改变原来"
   ]
  },
  {
   "cell_type": "code",
   "execution_count": 17,
   "metadata": {},
   "outputs": [
    {
     "name": "stdout",
     "output_type": "stream",
     "text": [
      "a : [9, 7, 8, 1, 2, 5, 3, 0]\n",
      "b : [9, 7, 8, 1, 2, 5, 3, 0]\n",
      "a after sorting by a.sort(): [0, 1, 2, 3, 5, 7, 8, 9]\n",
      "sorted b: [0, 1, 2, 3, 5, 7, 8, 9]\n",
      "b after sorting by sorted(b): [9, 7, 8, 1, 2, 5, 3, 0]\n"
     ]
    }
   ],
   "source": [
    "a = [9,7,8,1,2,5,3,0]\n",
    "b = a.copy()\n",
    "print('a :',a)\n",
    "print('b :',b)\n",
    "a.sort()\n",
    "print('a after sorting by a.sort():',a) # a改变了\n",
    "print('sorted b:',sorted(b))\n",
    "print('b after sorting by sorted(b):',b) #b不会改变\n"
   ]
  },
  {
   "cell_type": "markdown",
   "metadata": {},
   "source": [
    "### 如果希望倒序排序，那么把reverse改为True"
   ]
  },
  {
   "cell_type": "code",
   "execution_count": 18,
   "metadata": {},
   "outputs": [
    {
     "name": "stdout",
     "output_type": "stream",
     "text": [
      "a : [9, 7, 8, 1, 2, 5, 3, 0]\n",
      "b : [9, 7, 8, 1, 2, 5, 3, 0]\n",
      "a after sorting by a.sort(): [9, 8, 7, 5, 3, 2, 1, 0]\n",
      "sorted b: [9, 8, 7, 5, 3, 2, 1, 0]\n",
      "b after sorting by sorted(b): [9, 7, 8, 1, 2, 5, 3, 0]\n"
     ]
    }
   ],
   "source": [
    "a = [9,7,8,1,2,5,3,0]\n",
    "b = a.copy()\n",
    "print('a :',a)\n",
    "print('b :',b)\n",
    "a.sort(reverse = True)\n",
    "print('a after sorting by a.sort():',a) # a改变了\n",
    "print('sorted b:',sorted(b,reverse = True))\n",
    "print('b after sorting by sorted(b):',b) #b不会改变\n"
   ]
  },
  {
   "cell_type": "markdown",
   "metadata": {},
   "source": [
    "# 2. Monte Carlo Simulation\n",
    "### 蒙特卡罗方法的基本原理简单描述是先大量模拟，然后计算一个事件发生的次数，再通过这个发生次数除以总模拟次数，得到想要的结果\n",
    "### 蒙特卡洛方法可以应用在很多场合，但求的是近似解，在模拟样本数越大的情况下，越接近与真实值\n",
    "### python中random模块用于产生随机数\n",
    "### random.randint()的函数原型为：random.randint(a, b)，用于生成一个指定范围内的整数，其中参数a是下限，参数b是上限，生成的随机数n: a <= n <= b"
   ]
  },
  {
   "cell_type": "code",
   "execution_count": 19,
   "metadata": {},
   "outputs": [
    {
     "name": "stdout",
     "output_type": "stream",
     "text": [
      "6 2 1 2 6 1 6 5 5 "
     ]
    }
   ],
   "source": [
    "import random\n",
    "for i in range(1,10):\n",
    "    print(random.randint(1,6),end = ' ') #模拟投掷骰子9次"
   ]
  },
  {
   "cell_type": "markdown",
   "metadata": {},
   "source": [
    "# 3.schema——table driven\n",
    "### 表驱动法是一种编程模式，从表中查找信息而不是用逻辑(if/else,switch/case)\n",
    "### 以下用3个例子说明表驱动法的运用\n",
    "### 3.1 计算某月某日是一年中的第几天\n",
    "### 3.2 给定一个分数判断等级\n",
    "### 3.3 掷骰子\n"
   ]
  },
  {
   "cell_type": "markdown",
   "metadata": {},
   "source": [
    "### 3.1 计算某月某日是一年中的第几天"
   ]
  },
  {
   "cell_type": "code",
   "execution_count": 20,
   "metadata": {},
   "outputs": [
    {
     "name": "stdout",
     "output_type": "stream",
     "text": [
      "Please input the month of a year: 12\n",
      "Please input the day of a month: 31\n",
      "This is the 365th day in the year.\n"
     ]
    }
   ],
   "source": [
    "    month = int(input(\"Please input the month of a year: \"))\n",
    "    day = int(input(\"Please input the day of a month: \"))\n",
    "    days_in_month = [31,28,31,30,31,30,31,31,30,31,30,31] #用一个list存每个月的天数\n",
    "    count = sum(days_in_month[0:month-1]) + day\n",
    "    print('This is the {}th day in the year.'.format(count))\n",
    "    "
   ]
  },
  {
   "cell_type": "markdown",
   "metadata": {},
   "source": [
    "### 3.2 给定一个分数判断等级"
   ]
  },
  {
   "cell_type": "code",
   "execution_count": 21,
   "metadata": {},
   "outputs": [
    {
     "name": "stdout",
     "output_type": "stream",
     "text": [
      "Please input a score: 100\n",
      "your grade is :  A\n"
     ]
    }
   ],
   "source": [
    "grades = ['D'] *60 +['C']*15+['B']*15+['A']*11 # 0-59分评级D,60-74分评级C,75-89评级B，90-100评级A\n",
    "print('your grade is : ', grades[int(input('Please input a score: '))])"
   ]
  },
  {
   "cell_type": "markdown",
   "metadata": {},
   "source": [
    "### 3.3 掷骰子"
   ]
  },
  {
   "cell_type": "code",
   "execution_count": 22,
   "metadata": {},
   "outputs": [
    {
     "name": "stdout",
     "output_type": "stream",
     "text": [
      "[1000527, 1000013, 999823, 999859, 999728, 1000050]\n",
      "0.00013316666666666666\n"
     ]
    }
   ],
   "source": [
    "import random\n",
    "count = [0]*6 # 给1-6点数分配空间存甩到的次数\n",
    "for i in range(0,6000000): # 当甩的次数越大，那么6个点数出现的次数会越接近\n",
    "    count[random.randint(1,6)-1] += 1\n",
    "print(count)\n",
    "print((max(count)-min(count))/sum(count))"
   ]
  },
  {
   "cell_type": "markdown",
   "metadata": {},
   "source": [
    "#### 计算掷一定次数骰子，甩出连续3个6的次数"
   ]
  },
  {
   "cell_type": "code",
   "execution_count": 23,
   "metadata": {},
   "outputs": [
    {
     "name": "stdout",
     "output_type": "stream",
     "text": [
      "In 60000 tests,the times of 3 consecutive 6 is :265\n"
     ]
    }
   ],
   "source": [
    "import random\n",
    "count = 0 #用于存放连续3个6的次数\n",
    "number_of_tests = 60000 #投掷骰子次数\n",
    "last_three = [0,0,0] #这里用列表模拟队列（先进先出），如果是[6,6,6]那么count+1\n",
    "for i in range(0,number_of_tests):\n",
    "    last_three.append(random.randint(1,6)) \n",
    "    last_three.pop(0) #每次从尾部进入一个就从头部出去一个\n",
    "    if last_three == [6,6,6]:\n",
    "        count += 1\n",
    "print(\"In {0} tests,the times of 3 consecutive 6 is :{1}\".format(number_of_tests,count))"
   ]
  },
  {
   "cell_type": "markdown",
   "metadata": {},
   "source": [
    "#### 计算掷一定次数骰子，分别甩出连续3个1，2，3，4，5，6的次数"
   ]
  },
  {
   "cell_type": "code",
   "execution_count": 24,
   "metadata": {},
   "outputs": [
    {
     "name": "stdout",
     "output_type": "stream",
     "text": [
      "[2825, 2717, 2806, 2779, 2741, 2807]\n"
     ]
    }
   ],
   "source": [
    "import random\n",
    "count = [0] * 6 #对应存放出现连续1，2，，3，4，5，6的次数\n",
    "number_of_tests = 600000\n",
    "last_three =[0, 0, 0]\n",
    "for i in range(0, number_of_tests):\n",
    "    last_three.append(random.randint(1, 6))\n",
    "    last_three.pop(0)\n",
    "    if (last_three[0] == last_three[1] == last_three[2]):\n",
    "        count[last_three[2] - 1] += 1\n",
    "print(count) "
   ]
  },
  {
   "cell_type": "markdown",
   "metadata": {},
   "source": [
    "# 4.append & pop模拟stack/queue\n",
    "## stack:last in first out \n",
    "## queue:first in first out（队列在3.3中提及过，见上述例子）"
   ]
  },
  {
   "cell_type": "markdown",
   "metadata": {},
   "source": [
    "### 堆栈例子"
   ]
  },
  {
   "cell_type": "code",
   "execution_count": 25,
   "metadata": {},
   "outputs": [
    {
     "name": "stdout",
     "output_type": "stream",
     "text": [
      "Please input an expression: [(1+2])\n",
      "Not match\n"
     ]
    }
   ],
   "source": [
    "expression = input('Please input an expression: ')\n",
    "my_stack = list()\n",
    "\n",
    "left_quotes = ['{','[','(']\n",
    "right_quotes = ['}',']',')']\n",
    "\n",
    "flag = 0 #用于标记\n",
    "for ch in expression:\n",
    "    if ch in left_quotes:\n",
    "        my_stack.append(ch) #进栈\n",
    "    elif ch in right_quotes:\n",
    "        if my_stack == []:\n",
    "            flag = 1 #在此标记成1\n",
    "            break\n",
    "        else:\n",
    "            left_ch = my_stack.pop() #出栈\n",
    "            if(left_quotes.index(left_ch) != right_quotes.index(ch)):\n",
    "                flag = 1 #在此标记成1\n",
    "                break\n",
    "                \n",
    "if my_stack !=[] or flag == 1:\n",
    "    print('Not match')\n",
    "\n",
    "else:\n",
    "    print('match')"
   ]
  },
  {
   "cell_type": "markdown",
   "metadata": {},
   "source": [
    "# 5.Jupyter Magic -Timing(%time, %timeit)\n",
    "## %time 一次执行一条语句，然后报告总体执行时间\n",
    "## %timeit 会自动多次执行一条语句以产生一个较精确的平均执行时间\n",
    "## %%time，%%timeit 针对的是一个cell运行的时间"
   ]
  },
  {
   "cell_type": "code",
   "execution_count": 26,
   "metadata": {},
   "outputs": [],
   "source": [
    "import random"
   ]
  },
  {
   "cell_type": "code",
   "execution_count": 27,
   "metadata": {},
   "outputs": [
    {
     "name": "stdout",
     "output_type": "stream",
     "text": [
      "Wall time: 20 ms\n"
     ]
    }
   ],
   "source": [
    "%time a =[random.randint(1,6) for i in range(0,10000)] # 对相同语句多次执行%time,会发现结果会变"
   ]
  },
  {
   "cell_type": "code",
   "execution_count": 28,
   "metadata": {},
   "outputs": [
    {
     "name": "stdout",
     "output_type": "stream",
     "text": [
      "13.4 ms ± 160 µs per loop (mean ± std. dev. of 7 runs, 100 loops each)\n"
     ]
    }
   ],
   "source": [
    "%timeit a =[random.randint(1,6) for i in range(0,10000)]"
   ]
  },
  {
   "cell_type": "code",
   "execution_count": 29,
   "metadata": {},
   "outputs": [
    {
     "name": "stdout",
     "output_type": "stream",
     "text": [
      "Wall time: 15.6 ms\n"
     ]
    }
   ],
   "source": [
    "%%time\n",
    "a = [None]*10000\n",
    "for i in range(0,10000):\n",
    "    a[i] = random.randint(1,6)"
   ]
  },
  {
   "cell_type": "code",
   "execution_count": 30,
   "metadata": {},
   "outputs": [
    {
     "name": "stdout",
     "output_type": "stream",
     "text": [
      "13.7 ms ± 182 µs per loop (mean ± std. dev. of 7 runs, 100 loops each)\n"
     ]
    }
   ],
   "source": [
    "%%timeit\n",
    "a = [None]*10000\n",
    "for i in range(0,10000):\n",
    "    a[i] = random.randint(1,6)"
   ]
  },
  {
   "cell_type": "code",
   "execution_count": 31,
   "metadata": {},
   "outputs": [
    {
     "name": "stdout",
     "output_type": "stream",
     "text": [
      "14.6 ms ± 304 µs per loop (mean ± std. dev. of 7 runs, 100 loops each)\n"
     ]
    }
   ],
   "source": [
    "%%timeit\n",
    "a = list()\n",
    "for i in range(0,10000):\n",
    "    a.append(random.randint(1,6))"
   ]
  },
  {
   "cell_type": "markdown",
   "metadata": {},
   "source": [
    "#### 根据上述比较，如果已经知道列表的大小，可以提前分配空间可以减少运行的时间"
   ]
  },
  {
   "cell_type": "code",
   "execution_count": null,
   "metadata": {},
   "outputs": [],
   "source": []
  },
  {
   "cell_type": "code",
   "execution_count": null,
   "metadata": {},
   "outputs": [],
   "source": []
  }
 ],
 "metadata": {
  "kernelspec": {
   "display_name": "Python 3",
   "language": "python",
   "name": "python3"
  },
  "language_info": {
   "codemirror_mode": {
    "name": "ipython",
    "version": 3
   },
   "file_extension": ".py",
   "mimetype": "text/x-python",
   "name": "python",
   "nbconvert_exporter": "python",
   "pygments_lexer": "ipython3",
   "version": "3.6.4"
  }
 },
 "nbformat": 4,
 "nbformat_minor": 2
}
